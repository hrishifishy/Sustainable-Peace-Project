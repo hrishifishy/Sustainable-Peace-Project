{
 "cells": [
  {
   "cell_type": "code",
   "execution_count": 1,
   "metadata": {},
   "outputs": [],
   "source": [
    "from gensim.models import word2vec,KeyedVectors"
   ]
  },
  {
   "cell_type": "code",
   "execution_count": 2,
   "metadata": {},
   "outputs": [],
   "source": [
    "word_vectors = KeyedVectors.load_word2vec_format('/Users/hrishikeshtelang/Downloads/GloVe-1.2/Iroquois/vectors.txt', binary=False)"
   ]
  },
  {
   "cell_type": "code",
   "execution_count": 125,
   "metadata": {},
   "outputs": [
    {
     "data": {
      "text/plain": [
       "[('rochester', 0.9157667756080627),\n",
       " ('museum', 0.907758891582489),\n",
       " ('center', 0.8838181495666504),\n",
       " ('national', 0.8382572531700134),\n",
       " ('peabody', 0.8199564218521118),\n",
       " ('review', 0.7907533645629883),\n",
       " ('courtesy', 0.7872065305709839),\n",
       " ('institute', 0.7721797227859497),\n",
       " ('library', 0.7710676193237305),\n",
       " ('seum', 0.7408043146133423)]"
      ]
     },
     "execution_count": 125,
     "metadata": {},
     "output_type": "execute_result"
    }
   ],
   "source": [
    "word_vectors.most_similar(positive=['science'])"
   ]
  },
  {
   "cell_type": "code",
   "execution_count": null,
   "metadata": {},
   "outputs": [],
   "source": [
    "\n",
    "Postmodern Approaches to peace\n",
    "power sharing\n",
    "Prizes\n",
    "Reciprocity\n",
    "Reframing\n",
    "regional organization\n",
    "religion\n",
    "Religious Society of Friends\n",
    "Resources\n",
    "Responsibility\n",
    "Restructuring\n",
    "Science\n",
    "self-transcendent values\n",
    "shared community identity\n",
    "shared peace vision\n",
    "social capital\n",
    "Social Change\n",
    "social contract\n",
    "social identity complexity \n",
    "social well-being\n",
    "societal idea of peace\n",
    "Society of Friends\n",
    "Solidarity\n",
    "Spirituality\n",
    "Sports\n",
    "Storytelling and Peace\n",
    "superordinate identity groups\n",
    "sustainability\n",
    "Sustainable Development\n",
    "Sustainable Environmental Behavior\n",
    "symbols of peace\n",
    "tolerance\n",
    "Tourism\n",
    "Traditions of Peace\n",
    "Training\n",
    "Transnational Citizenship\n",
    "Transnational Social Movements\n",
    "Transnational Theory\n",
    "transparency\n",
    "transparent historical narratives\n",
    "Travel and Exchanges\n",
    "Treaties\n",
    "uncertainty tolerance\n",
    "Union\n",
    "United Nations\n",
    "United Nations Children’s Fund\n",
    "United Nations Educational, Scientific, and Cultural Organization\n",
    "unity\n",
    "Universities\n",
    "Veterans’ Movements and Peace\n",
    "Visioning and Conflict Resolution\n",
    "warmth\n",
    "win-win\n",
    "Women’s International League for Peace and Freedom\n",
    "World Federation\n",
    "World Governance"
   ]
  }
 ],
 "metadata": {
  "kernelspec": {
   "display_name": "Python 3",
   "language": "python",
   "name": "python3"
  },
  "language_info": {
   "codemirror_mode": {
    "name": "ipython",
    "version": 3
   },
   "file_extension": ".py",
   "mimetype": "text/x-python",
   "name": "python",
   "nbconvert_exporter": "python",
   "pygments_lexer": "ipython3",
   "version": "3.5.5"
  }
 },
 "nbformat": 4,
 "nbformat_minor": 2
}
