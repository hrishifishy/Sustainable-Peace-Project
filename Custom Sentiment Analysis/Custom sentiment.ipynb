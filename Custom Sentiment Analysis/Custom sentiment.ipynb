{
 "cells": [
  {
   "cell_type": "code",
   "execution_count": 16,
   "metadata": {},
   "outputs": [],
   "source": [
    "import nltk\n",
    "import yaml\n",
    "from nltk.tokenize import sent_tokenize, word_tokenize\n",
    "import numpy as np\n",
    "import pandas as pd\n"
   ]
  },
  {
   "cell_type": "markdown",
   "metadata": {},
   "source": [
    "# To Run the model on Online News"
   ]
  },
  {
   "cell_type": "code",
   "execution_count": 128,
   "metadata": {},
   "outputs": [
    {
     "name": "stdout",
     "output_type": "stream",
     "text": [
      "{'totalResults': 2633, 'articles': [{'content': 'An American college admissions scandal offered a window into the inequities of the application process. But what about the campuses themselves?\\r\\nStudents at the University of Southern California, which figures prominently in the indictment in the scheme, desc… [+614 chars]', 'url': 'https://www.nytimes.com/2019/04/04/briefing/rupert-murdoch-trump-tax-returns-mueller.html', 'author': 'MELINA DELKIC', 'publishedAt': '2019-04-04T04:24:13Z', 'source': {'name': 'The New York Times', 'id': 'the-new-york-times'}, 'title': 'President Trump, Brexit, Brunei: Your Thursday Briefing', 'description': 'Attorney General William Barr at the White House on Monday.', 'urlToImage': 'https://static01.nyt.com/images/2019/04/03/briefing/04042019ambriefing-euro-promo/04042019ambriefing-euro-slide-PE63-facebookJumbo.jpg'}, {'content': 'At a time when Islams place in the modern world is a matter of global contention, Brunei, a small monarchy in Southeast Asia, has offered its two cents. By April 3, the nation, which is predominantly Muslim, had begun adhering to a new penal code with harsh c… [+1393 chars]', 'url': 'https://www.nytimes.com/2019/04/09/opinion/bruneis-stoning-law-is-out-of-touch-with-modern-islam.html', 'author': 'MUSTAFA AKYOL', 'publishedAt': '2019-04-09T10:00:04Z', 'source': {'name': 'The New York Times', 'id': 'the-new-york-times'}, 'title': 'Brunei’s Stoning Law Is Out of Touch With Modern Islam', 'description': 'Brunei’s Sultan Hassanal Bolkiah after announcing that Islamic teachings in the country would be strengthened as strict new sharia punishments, including death by stoning for gay sex and adultery, were due to come into force on April 3, 2019.', 'urlToImage': 'https://static01.nyt.com/images/2019/04/09/opinion/09Akyol2/09Akyol2-facebookJumbo.jpg'}, {'content': 'The Inheritance received rave reviews in Britain after opening last year at Londons Young Vic. Dominic Cavendish, writing in The Daily Telegraph, called it a theatrical marathon that instantly looks like a modern classic, adding that it was perhaps the most i… [+1058 chars]', 'url': 'https://www.nytimes.com/2019/04/07/arts/olivier-awards-winners-the-inheritance-company.html', 'author': 'ALEX MARSHALL', 'publishedAt': '2019-04-07T22:22:22Z', 'source': {'name': 'The New York Times', 'id': 'the-new-york-times'}, 'title': '‘The Inheritance’ Triumphs at Olivier Awards, and So Does a Gender-Swapping ‘Company’', 'description': 'A six-and-a-half-hour play about the legacy of AIDS in New York won best new play at the British equivalent of the Tonys. “Company” and “Come From Away” were also successful.', 'urlToImage': 'https://static01.nyt.com/images/2019/04/07/arts/07oliviers-item/07oliviers-item-facebookJumbo.jpg'}, {'content': 'An intriguing aspect of Bruneis barbarous Shariah laws is that if they were to be really enforced, a few of the sultans ridiculously wealthy, jet-setting kin would be leading candidates for death by stoning. Adultery is one of the crimes for which the archaic… [+1580 chars]', 'url': 'https://www.nytimes.com/2019/04/09/opinion/brunei-sultan-shariah-law.html', 'author': 'THE EDITORIAL BOARD', 'publishedAt': '2019-04-09T23:47:48Z', 'source': {'name': 'The New York Times', 'id': 'the-new-york-times'}, 'title': 'Brunei’s Royal Barbarity and Hypocrisy', 'description': 'The oil-rich sultanate imposes harsh Shariah law on its subjects, while members of the royal family enjoy lives of conspicuous luxury.', 'urlToImage': 'https://static01.nyt.com/images/2019/04/09/opinion/09Brunei/09Brunei-facebookJumbo.jpg'}, {'content': 'HONG KONG When Brunei announced in 2013 that it was bringing in harsh Islamic laws that included punishments of death by stoning for adultery and gay sex, the move was met with international protest. Some investments by the countrys sovereign wealth fund, inc… [+937 chars]', 'url': 'https://www.nytimes.com/2019/03/28/world/asia/brunei-stoning-death.html', 'author': 'AUSTIN RAMZY', 'publishedAt': '2019-03-28T07:53:36Z', 'source': {'name': 'The New York Times', 'id': 'the-new-york-times'}, 'title': 'Brunei to Punish Adultery and Gay Sex With Death by Stoning', 'description': 'Statutes allowing stoning and amputation will go into effect in the sultanate beginning on April 3. That has set off an outcry from human rights groups.', 'urlToImage': 'https://static01.nyt.com/images/2019/03/28/world/28brunei-1/28brunei-1-facebookJumbo.jpg'}, {'content': None, 'url': 'https://www.bbc.co.uk/news/av/world-asia-47813751/will-george-clooney-s-brunei-boycott-really-work', 'author': 'BBC News', 'publishedAt': '2019-04-04T11:38:54Z', 'source': {'name': 'BBC News', 'id': 'bbc-news'}, 'title': \"Will George Clooney's Brunei boycott really work?\", 'description': \"Celebrities are boycotting Brunei's businesses over new anti-LGBT laws - but will it really pay off?\", 'urlToImage': 'https://ichef.bbci.co.uk/news/1024/branded_news/FD84/production/_106300946_p075htz8.jpg'}, {'content': \"Media captionWill George Clooney's Brunei boycott really work?\\r\\nThe social media accounts of Brunei-owned luxury hotels have been deleted or made inaccessible amid an ongoing backlash over anti-LGBT laws.\\r\\nBrunei introduced strict Islamic laws this week that … [+2437 chars]\", 'url': 'https://www.bbc.co.uk/news/blogs-trending-47824896', 'author': 'https://www.facebook.com/bbcnews', 'publishedAt': '2019-04-05T08:43:55Z', 'source': {'name': 'BBC News', 'id': 'bbc-news'}, 'title': 'Brunei hotels withdraw from social media amid anti-LGBT law backlash', 'description': 'The luxury hotels are pulled from online social platforms amid a backlash over anti-LGBT laws.', 'urlToImage': 'https://ichef.bbci.co.uk/images/ic/1024x576/p075htz8.jpg'}, {'content': \"Chat with us in Facebook Messenger. Find out what's happening in the world as it unfolds.\", 'url': 'https://www.cnn.com/videos/world/2019/04/02/brunei-lgbt-stoning-law-protests-field-pkg-vpx.cnn', 'author': None, 'publishedAt': '2019-04-02T06:54:36Z', 'source': {'name': 'CNN', 'id': 'cnn'}, 'title': \"George Clooney and UN protest Brunei's anti-gay law\", 'description': \"A new law that takes effect this week in the small southeast Asian kingdom of Brunei will punish homosexual sex and adultery with death. CNN's Alexandra Field reports.\", 'urlToImage': 'https://cdn.cnn.com/cnnnext/dam/assets/190402125138-brunei-super-tease.jpg'}, {'content': 'London (CNN)A British TV awards show and a Swiss-owned travel agency have joined a growing boycott of businesses owned by the kingdom of Brunei, after the country implemented new laws making gay sex and adultery punishable by stoning to death.\\r\\nTV Choice maga… [+3088 chars]', 'url': 'https://www.cnn.com/2019/04/05/asia/brunei-hotel-airline-boycott-scli-intl/index.html', 'author': 'Emily Dixon, CNN', 'publishedAt': '2019-04-05T14:03:17Z', 'source': {'name': 'CNN', 'id': 'cnn'}, 'title': 'More companies boycott Brunei over anti-gay laws', 'description': 'A British TV awards show and a Swiss-owned travel agency have joined a growing boycott of businesses owned by the kingdom of Brunei, after the country implemented new laws making gay sex and adultery punishable by stoning to death.', 'urlToImage': 'https://cdn.cnn.com/cnnnext/dam/assets/190405125230-01-dorchester-hotel-0403-super-tease.jpg'}, {'content': 'Rafia Zakaria is the author of \"The Upstairs Wife: An Intimate History of Pakistan\" (Beacon 2015) and \"Veil\" (Bloomsbury 2017). She is a columnist for Dawn newspaper in Pakistan and The Baffler. The views expressed in this commentary are her own. View more op… [+6647 chars]', 'url': 'https://www.cnn.com/2019/04/04/opinions/brunei-anti-lgbt-law-clooney-boycott-zakaria/index.html', 'author': 'Rafia Zakaria', 'publishedAt': '2019-04-04T21:21:27Z', 'source': {'name': 'CNN', 'id': 'cnn'}, 'title': \"Opinion: George Clooney is right about Brunei's barbaric anti-LGBT law\", 'description': '\"It is because of our need that Allah the Almighty, in all his generosity, has created laws for us, so that we can utilise them to obtain justice,\" declared Sultan Hassanal Bolkiah in October 2013, when he first announced a three-part plan for the implementat…', 'urlToImage': 'https://cdn.cnn.com/cnnnext/dam/assets/170906094704-george-clooney-super-tease.jpg'}, {'content': 'MANILA (Reuters) - The presence of hundreds of Chinese boats near an island occupied by Manila in the disputed South China Sea is illegal and a clear violation of Philippine sovereignty, the country’s foreign ministry said on Thursday. \\r\\n“Such actions when no… [+843 chars]', 'url': 'https://www.reuters.com/article/us-southchinasea-philippines-idUSKCN1RG0LC', 'author': 'Reuters Editorial', 'publishedAt': '2019-04-04T07:01:05Z', 'source': {'name': 'Reuters', 'id': 'reuters'}, 'title': 'Philippines says presence of Chinese vessels in disputed waters is illegal', 'description': \"The presence of hundreds of Chinese boats near an island occupied by Manila in the disputed South China Sea is illegal and a clear violation of Philippine sovereignty, the country's foreign ministry said on Thursday.\", 'urlToImage': 'https://s2.reutersmedia.net/resources/r/?m=02&d=20190404&t=2&i=1373352608&w=1200&r=LYNXNPEF330JC'}, {'content': 'Brands, universities, and celebrities are part of a growing movement taking action against Brunei-owned enterprises after the tiny Asian nation introduced a new law punishing homosexuality with the death penalty. \\r\\n As of Wednesday, the punishment for homosex… [+3036 chars]', 'url': 'https://www.businessinsider.com/brunei-boycott-brands-universities-people-taking-action-2019-4', 'author': 'Bill Bostock', 'publishedAt': '2019-04-06T08:35:00Z', 'source': {'name': 'Business Insider', 'id': 'business-insider'}, 'title': \"Here's a list of everyone who is boycotting or cutting ties with Brunei after it introduced new laws to punish homosexuality with death by stoning\", 'description': 'Companies, universities, and celebrities are making moves on a boycott of Brunei-owned services after the country introduced a law making homosexuality punishable by death. Eight five-star hotels owned by the Sultan of Brunei quit Twitter on Wednesday amid a …', 'urlToImage': 'https://amp.businessinsider.com/images/5ca7560b8629130c13480ad2-2732-1366.jpg'}, {'content': \"The southeast Asian kingdom of Brunei has introduced a law making homosexuality punishable with death by stoning. \\r\\n The new laws, issued as a direct order from the country's leader Sultan Hassanal Bolkiah, come into play on April 3, and state homosexuality, … [+2316 chars]\", 'url': 'https://www.thisisinsider.com/brunei-makes-death-by-stoning-new-punishment-for-homosexuality-2019-3', 'author': 'Bill Bostock', 'publishedAt': '2019-03-28T13:06:10Z', 'source': {'name': 'Thisisinsider.com', 'id': None}, 'title': 'The southeast Asian nation of Brunei introduced a new law punishing homosexuality with death by stoning', 'description': \"The southeast Asian kingdom of Brunei has introduced a law making homosexuality punishable with death by stoning. Being gay has been illegal in the small oil-rich state since 1984, but it adopted Islamic Shariah law as it's penal code in 2014. Under the new l…\", 'urlToImage': 'https://amp.businessinsider.com/images/5c9cc7572730ca41cd2c47a2-1334-667.jpg'}, {'content': 'Brunei has hit back at criticism of its new anti-LGBT laws, calling for \"respect\" from the international community, and admitting that the laws will be extremely difficult to enforce. \\r\\n The laws, introduced last week, make homosexuality, along with sodomy, a… [+2889 chars]', 'url': 'https://www.thisisinsider.com/anti-lgbt-laws-brunei-says-critics-should-respect-its-culture-2019-4', 'author': 'Beatrice Christofaro', 'publishedAt': '2019-04-12T11:06:52Z', 'source': {'name': 'Thisisinsider.com', 'id': None}, 'title': \"Brunei calls for 'respect' as it defends its new law threatening homosexuals with death by stoning, but admits it will be extremely difficult to enforce\", 'description': 'Brunei has hit back at criticism of its new anti-LGBT laws, calling for \"respect\" from the international community. The laws make homosexuality and sodomy, as well as adultery and rape offenses punishable by death by stoning. The tiny Muslim nation said the n…', 'urlToImage': 'https://amp.businessinsider.com/images/5cb071bfd2ce78204c1e610f-2732-1366.jpg'}, {'content': \"Elton John has backed George Clooney's call for people to boycott a string of the world's most luxurious hotels following Brunei's new laws over gay sex. \\r\\n From April 3, Brunei is bringing in new laws that will make gay sex, as well as adultery, punishable b… [+2759 chars]\", 'url': 'https://www.thisisinsider.com/elton-john-backs-george-clooneys-hotel-boycott-over-brunei-gay-sex-law-2019-3', 'author': 'Rachel Hosie', 'publishedAt': '2019-03-31T11:37:00Z', 'source': {'name': 'Thisisinsider.com', 'id': None}, 'title': 'Elton John has backed George Clooney’s call to boycott some of the world’s most luxurious hotels over Brunei’s new laws that make gay sex punishable by death', 'description': \"Elton John has backed George Clooney's call for people to boycott a string of the world's most luxurious hotels following Brunei's new laws over gay sex. Brunei is bringing in new laws that will make gay sex, as well as adultery, punishable by death. The Sult…\", 'urlToImage': 'https://amp.businessinsider.com/images/5ca0a6c72730ca68d575a285-2732-1366.jpg'}, {'content': \"A number of luxury hotels owned by the Sultan of Brunei have abandoned social media after a furious backlash to Brunei's decision to make death by stoning the punishment for homosexuality. \\r\\n Eight hotels, including The Dorchester, London, and The Beverly Hil… [+3308 chars]\", 'url': 'https://www.businessinsider.com/brunei-owned-hotels-delete-social-media-amid-gay-stoning-furore-2019-4', 'author': 'Bill Bostock', 'publishedAt': '2019-04-04T10:32:49Z', 'source': {'name': 'Business Insider', 'id': 'business-insider'}, 'title': \"5-star hotels owned by the Sultan of Brunei deleted their social media after an intense backlash over Brunei's new law punishing homosexuality with death by stoning\", 'description': 'Five-star hotels owned by the Sultan of Brunei have quit social media after the country was slammed for making death by stoning the punishment for being gay. The Dorchester in London and The Beverly Hills Hotel in LA were among eight hotels who deleted Twitte…', 'urlToImage': 'https://amp.businessinsider.com/images/5ca5dd0509b6037e014dbff4-1920-960.jpg'}, {'content': 'The 72-year-old Sultan of Brunei may have passed his controversial anti-homosexuality laws in order to clean up his own reputation as a playboy and big spender, critics say. \\r\\n The new laws, which were issued as a direct order from the sultan, state that homo… [+4288 chars]', 'url': 'https://www.businessinsider.com/sultan-of-brunei-anti-gay-laws-clean-up-playboy-image-2019-4', 'author': 'Alexandra Ma', 'publishedAt': '2019-04-09T10:55:07Z', 'source': {'name': 'Business Insider', 'id': 'business-insider'}, 'title': 'The Sultan of Brunei passed new anti-LGBT laws to clean up his image as a big-spending playboy, critics say', 'description': \"Brunei last week introduced new laws that would see gay people stoned to death. Critics say the new move towards conservative Islam contrasts with the reputation of the country's ruler, Sultan Hassanal Bolkiah as an international playboy and big spender. Sult…\", 'urlToImage': 'https://amp.businessinsider.com/images/5cac5e37c6cc506a9d15ad83-2560-1280.jpg'}, {'content': 'A video detailing the inside of mansions on London\\'s \"Billionaire\\'s Row\" shows how the vast homes owned by celebrities and foreign royalty are decaying. \\r\\n The video was shot by YouTuber and and urban explorer David Cripps, who explored deep into the grime-co… [+853 chars]', 'url': 'https://www.thisisinsider.com/video-youtuber-explores-rotting-mansions-of-london-billionaires-row-2019-4', 'author': 'Bill Bostock', 'publishedAt': '2019-04-10T11:48:53Z', 'source': {'name': 'Thisisinsider.com', 'id': None}, 'title': \"Creepy footage shows the inside of abandoned mansions on London's 'Billionaire's Row,' which celebrities and the global super-rich have left to rot\", 'description': 'Creepy footage posted on YouTube an urban explorer shows the interior of mansions lying abandoned on London\\'s \"Billionaire\\'s Row.\" YouTuber David Cripps went into some of the mansions on The Bishops Avenue, many of which have been empty and decaying for over …', 'urlToImage': 'https://amp.businessinsider.com/images/5cadd9442730ca75150e773b-1536-768.jpg'}, {'content': \"On Friday, HBO host Bill Maher mocked actor George Clooney's call for a boycott of hotels that are allegedly connected to Brunei's corporate arm. In a Deadline op-ed Thursday, Clooney condemned the recent institution of the death penalty in the country for th… [+2604 chars]\", 'url': 'https://www.thisisinsider.com/bill-maher-mocked-george-clooneys-hotel-boycott-2019-3', 'author': 'Ellen Cranley', 'publishedAt': '2019-03-30T14:43:17Z', 'source': {'name': 'Thisisinsider.com', 'id': None}, 'title': \"Bill Maher mocked George Clooney's call for boycott of hotels connected to LGBTQ death penalty\", 'description': 'Actor George Clooney penned an op-ed Thursday that called for a boycott of hotels owned by the corporate arm of the Brunei government, which recently prescribed the death penalty for citizens who engage in gay sex. The ritzy hotels connected to the Brunei gov…', 'urlToImage': 'https://amp.businessinsider.com/images/5c9f80a32730ca68d575a1ca-1920-960.jpg'}, {'content': 'Starting off the new month with an inspiration boost, thats the idea behind our monthly wallpapers series which has been going on for more than nine years already. What makes it special: the wallpapers are created by the community for the community, and every… [+12775 chars]', 'url': 'https://www.smashingmagazine.com/2019/03/desktop-wallpaper-calendars-april-2019/', 'author': 'Cosima Mielke', 'publishedAt': '2019-03-31T07:14:59Z', 'source': {'name': 'Smashingmagazine.com', 'id': None}, 'title': 'Blooming Colors And April Adventures (2019 Wallpapers Edition)', 'description': 'Starting off the new month with an inspiration boost, that’s the idea behind our monthly wallpapers series which has been going on for more than nine years already. What makes it special: the wallpapers are created by the community for the community, and ever…', 'urlToImage': 'https://cloud.netlifyusercontent.com/assets/344dbf88-fdf9-42bb-adb4-46f01eedd629/af4c6f8b-a107-4088-9276-6d326c273d97/apr-19-dreaming-preview.png'}], 'status': 'ok'}\n"
     ]
    }
   ],
   "source": [
    "import requests\n",
    "url = ('https://newsapi.org/v2/everything?'\n",
    "       'q=brunei&human&rights'\n",
    "       'from=2019-03-22&'\n",
    "       'sortBy=popularity&'\n",
    "       'apiKey=78d0091a1deb4db6a93daa7fcafe5985')\n",
    "response = requests.get(url)\n",
    "a=response.json()\n",
    "print(response.json())\n",
    "import json\n",
    "with open('data.json', 'w') as outfile:\n",
    "    json.dump(a, outfile)\n",
    "file1 = open(\"bruneihr.txt\",\"r\") "
   ]
  },
  {
   "cell_type": "markdown",
   "metadata": {},
   "source": [
    "# Run Model on a piece of text or file"
   ]
  },
  {
   "cell_type": "code",
   "execution_count": 22,
   "metadata": {},
   "outputs": [],
   "source": [
    "file1 = open(\"outputnord.txt\",\"r\",encoding='cp1252')\n",
    "res=[]\n",
    "text=\"\"\"In Johan Galtung's 1969 paper, \"Violence, Peace and Peace Research,\"[1] he presents his theory of the Conflict\n",
    "Triangle, a framework used in the study of peace and conflict, with the purpose of defining the three key elements\n",
    "of violence that form this \"triangle.\" The theory is based on the principle that peace must be defined by widely \n",
    "accepted social goals, and that any state of peace is characterized by the absence of violence. When a conflict has \n",
    "features of all three areas of violence, the result is a more consolidated, static state of violence in a \n",
    "social system, which may include a conflict or a nation-state, whereas the absence of these three \n",
    "typologies of violence results in peace.\"\"\"\n",
    "#for line in text:\n",
    "    \n",
    "sentences = sent_tokenize(text)\n",
    "tokenized_sentences = [word_tokenize(sent) for sent in sentences]\n",
    "#postag=[nltk.pos_tag(toksent) for toksent in tokenized_sentences ]\n",
    "#postag\n",
    "\n",
    "pos = [nltk.pos_tag(sentence) for sentence in tokenized_sentences]\n",
    "#adapt format\n",
    "pos = [[(word, word, [postag]) for (word, postag) in sentence] for sentence in pos]\n",
    "res.append(pos)"
   ]
  },
  {
   "cell_type": "code",
   "execution_count": 23,
   "metadata": {
    "scrolled": false
   },
   "outputs": [
    {
     "data": {
      "text/plain": [
       "[[[('In', 'In', ['IN']),\n",
       "   ('Johan', 'Johan', ['NNP']),\n",
       "   ('Galtung', 'Galtung', ['NNP']),\n",
       "   (\"'s\", \"'s\", ['POS']),\n",
       "   ('1969', '1969', ['CD']),\n",
       "   ('paper', 'paper', ['NN']),\n",
       "   (',', ',', [',']),\n",
       "   ('``', '``', ['``']),\n",
       "   ('Violence', 'Violence', ['NN']),\n",
       "   (',', ',', [',']),\n",
       "   ('Peace', 'Peace', ['NNP']),\n",
       "   ('and', 'and', ['CC']),\n",
       "   ('Peace', 'Peace', ['NNP']),\n",
       "   ('Research', 'Research', ['NNP']),\n",
       "   (',', ',', [',']),\n",
       "   (\"''\", \"''\", [\"''\"]),\n",
       "   ('[', '[', ['VBZ']),\n",
       "   ('1', '1', ['CD']),\n",
       "   (']', ']', ['NN']),\n",
       "   ('he', 'he', ['PRP']),\n",
       "   ('presents', 'presents', ['VBZ']),\n",
       "   ('his', 'his', ['PRP$']),\n",
       "   ('theory', 'theory', ['NN']),\n",
       "   ('of', 'of', ['IN']),\n",
       "   ('the', 'the', ['DT']),\n",
       "   ('Conflict', 'Conflict', ['NNP']),\n",
       "   ('Triangle', 'Triangle', ['NNP']),\n",
       "   (',', ',', [',']),\n",
       "   ('a', 'a', ['DT']),\n",
       "   ('framework', 'framework', ['NN']),\n",
       "   ('used', 'used', ['VBN']),\n",
       "   ('in', 'in', ['IN']),\n",
       "   ('the', 'the', ['DT']),\n",
       "   ('study', 'study', ['NN']),\n",
       "   ('of', 'of', ['IN']),\n",
       "   ('peace', 'peace', ['NN']),\n",
       "   ('and', 'and', ['CC']),\n",
       "   ('conflict', 'conflict', ['NN']),\n",
       "   (',', ',', [',']),\n",
       "   ('with', 'with', ['IN']),\n",
       "   ('the', 'the', ['DT']),\n",
       "   ('purpose', 'purpose', ['NN']),\n",
       "   ('of', 'of', ['IN']),\n",
       "   ('defining', 'defining', ['VBG']),\n",
       "   ('the', 'the', ['DT']),\n",
       "   ('three', 'three', ['CD']),\n",
       "   ('key', 'key', ['JJ']),\n",
       "   ('elements', 'elements', ['NNS']),\n",
       "   ('of', 'of', ['IN']),\n",
       "   ('violence', 'violence', ['NN']),\n",
       "   ('that', 'that', ['WDT']),\n",
       "   ('form', 'form', ['NN']),\n",
       "   ('this', 'this', ['DT']),\n",
       "   ('``', '``', ['``']),\n",
       "   ('triangle', 'triangle', ['NN']),\n",
       "   ('.', '.', ['.']),\n",
       "   (\"''\", \"''\", [\"''\"])],\n",
       "  [('The', 'The', ['DT']),\n",
       "   ('theory', 'theory', ['NN']),\n",
       "   ('is', 'is', ['VBZ']),\n",
       "   ('based', 'based', ['VBN']),\n",
       "   ('on', 'on', ['IN']),\n",
       "   ('the', 'the', ['DT']),\n",
       "   ('principle', 'principle', ['NN']),\n",
       "   ('that', 'that', ['WDT']),\n",
       "   ('peace', 'peace', ['NN']),\n",
       "   ('must', 'must', ['MD']),\n",
       "   ('be', 'be', ['VB']),\n",
       "   ('defined', 'defined', ['VBN']),\n",
       "   ('by', 'by', ['IN']),\n",
       "   ('widely', 'widely', ['RB']),\n",
       "   ('accepted', 'accepted', ['VBN']),\n",
       "   ('social', 'social', ['JJ']),\n",
       "   ('goals', 'goals', ['NNS']),\n",
       "   (',', ',', [',']),\n",
       "   ('and', 'and', ['CC']),\n",
       "   ('that', 'that', ['IN']),\n",
       "   ('any', 'any', ['DT']),\n",
       "   ('state', 'state', ['NN']),\n",
       "   ('of', 'of', ['IN']),\n",
       "   ('peace', 'peace', ['NN']),\n",
       "   ('is', 'is', ['VBZ']),\n",
       "   ('characterized', 'characterized', ['VBN']),\n",
       "   ('by', 'by', ['IN']),\n",
       "   ('the', 'the', ['DT']),\n",
       "   ('absence', 'absence', ['NN']),\n",
       "   ('of', 'of', ['IN']),\n",
       "   ('violence', 'violence', ['NN']),\n",
       "   ('.', '.', ['.'])],\n",
       "  [('When', 'When', ['WRB']),\n",
       "   ('a', 'a', ['DT']),\n",
       "   ('conflict', 'conflict', ['NN']),\n",
       "   ('has', 'has', ['VBZ']),\n",
       "   ('features', 'features', ['NNS']),\n",
       "   ('of', 'of', ['IN']),\n",
       "   ('all', 'all', ['DT']),\n",
       "   ('three', 'three', ['CD']),\n",
       "   ('areas', 'areas', ['NNS']),\n",
       "   ('of', 'of', ['IN']),\n",
       "   ('violence', 'violence', ['NN']),\n",
       "   (',', ',', [',']),\n",
       "   ('the', 'the', ['DT']),\n",
       "   ('result', 'result', ['NN']),\n",
       "   ('is', 'is', ['VBZ']),\n",
       "   ('a', 'a', ['DT']),\n",
       "   ('more', 'more', ['RBR']),\n",
       "   ('consolidated', 'consolidated', ['JJ']),\n",
       "   (',', ',', [',']),\n",
       "   ('static', 'static', ['JJ']),\n",
       "   ('state', 'state', ['NN']),\n",
       "   ('of', 'of', ['IN']),\n",
       "   ('violence', 'violence', ['NN']),\n",
       "   ('in', 'in', ['IN']),\n",
       "   ('a', 'a', ['DT']),\n",
       "   ('social', 'social', ['JJ']),\n",
       "   ('system', 'system', ['NN']),\n",
       "   (',', ',', [',']),\n",
       "   ('which', 'which', ['WDT']),\n",
       "   ('may', 'may', ['MD']),\n",
       "   ('include', 'include', ['VB']),\n",
       "   ('a', 'a', ['DT']),\n",
       "   ('conflict', 'conflict', ['NN']),\n",
       "   ('or', 'or', ['CC']),\n",
       "   ('a', 'a', ['DT']),\n",
       "   ('nation-state', 'nation-state', ['JJ']),\n",
       "   (',', ',', [',']),\n",
       "   ('whereas', 'whereas', ['IN']),\n",
       "   ('the', 'the', ['DT']),\n",
       "   ('absence', 'absence', ['NN']),\n",
       "   ('of', 'of', ['IN']),\n",
       "   ('these', 'these', ['DT']),\n",
       "   ('three', 'three', ['CD']),\n",
       "   ('typologies', 'typologies', ['NNS']),\n",
       "   ('of', 'of', ['IN']),\n",
       "   ('violence', 'violence', ['NN']),\n",
       "   ('results', 'results', ['NNS']),\n",
       "   ('in', 'in', ['IN']),\n",
       "   ('peace', 'peace', ['NN']),\n",
       "   ('.', '.', ['.'])]]]"
      ]
     },
     "execution_count": 23,
     "metadata": {},
     "output_type": "execute_result"
    }
   ],
   "source": [
    "res"
   ]
  },
  {
   "cell_type": "markdown",
   "metadata": {},
   "source": [
    "# Sentiment Analysis Model"
   ]
  },
  {
   "cell_type": "code",
   "execution_count": 24,
   "metadata": {},
   "outputs": [],
   "source": [
    "class DictionaryTagger(object):\n",
    "    def __init__(self, dictionary_paths):\n",
    "        files = [open(path, 'r') for path in dictionary_paths]\n",
    "        dictionaries = [yaml.load(dict_file) for dict_file in files]\n",
    "        map(lambda x: x.close(), files)\n",
    "        self.dictionary = {}\n",
    "        self.max_key_size = 0\n",
    "        for curr_dict in dictionaries:\n",
    "            for key in curr_dict:\n",
    "                if key in self.dictionary:\n",
    "                    self.dictionary[key].extend(curr_dict[key])\n",
    "                else:\n",
    "                    self.dictionary[key] = curr_dict[key]\n",
    "                    self.max_key_size = max(self.max_key_size, len(key))\n",
    "\n",
    "    def tag(self, postagged_sentences):\n",
    "        return [self.tag_sentence(sentence) for sentence in postagged_sentences]\n",
    "\n",
    "    def tag_sentence(self, sentence, tag_with_lemmas=False):\n",
    "        \"\"\"\n",
    "        the result is only one tagging of all the possible ones.\n",
    "        The resulting tagging is determined by these two priority rules:\n",
    "            - longest matches have higher priority\n",
    "            - search is made from left to right\n",
    "        \"\"\"\n",
    "        tag_sentence = []\n",
    "        N = len(sentence)\n",
    "        if self.max_key_size == 0:\n",
    "            self.max_key_size = N\n",
    "        i = 0\n",
    "        while (i < N):\n",
    "            j = min(i + self.max_key_size, N) #avoid overflow\n",
    "            tagged = False\n",
    "            while (j > i):\n",
    "                expression_form = ' '.join([word[0] for word in sentence[i:j]]).lower()\n",
    "                expression_lemma = ' '.join([word[1] for word in sentence[i:j]]).lower()\n",
    "                if tag_with_lemmas:\n",
    "                    literal = expression_lemma\n",
    "                else:\n",
    "                    literal = expression_form\n",
    "                if literal in self.dictionary:\n",
    "                    #self.logger.debug(\"found: %s\" % literal)\n",
    "                    is_single_token = j - i == 1\n",
    "                    original_position = i\n",
    "                    i = j\n",
    "                    taggings = [tag for tag in self.dictionary[literal]]\n",
    "                    tagged_expression = (expression_form, expression_lemma, taggings)\n",
    "                    if is_single_token: #if the tagged literal is a single token, conserve its previous taggings:\n",
    "                        original_token_tagging = sentence[original_position][2]\n",
    "                        tagged_expression[2].extend(original_token_tagging)\n",
    "                    tag_sentence.append(tagged_expression)\n",
    "                    tagged = True\n",
    "                else:\n",
    "                    j = j - 1\n",
    "            if not tagged:\n",
    "                tag_sentence.append(sentence[i])\n",
    "                i += 1\n",
    "        return tag_sentence\n"
   ]
  },
  {
   "cell_type": "code",
   "execution_count": 25,
   "metadata": {},
   "outputs": [],
   "source": [
    "def value_of(sentiment):\n",
    "    if sentiment == 'positive': return 1\n",
    "    if sentiment == 'negative': return -1\n",
    "    return 0\n",
    "\n",
    "def sentence_score(sentence_tokens, previous_token, acum_score):    \n",
    "    if not sentence_tokens:\n",
    "        return acum_score\n",
    "    else:\n",
    "        current_token = sentence_tokens[0]\n",
    "        tags = current_token[2]\n",
    "        token_score = sum([value_of(tag) for tag in tags])\n",
    "        if previous_token is not None:\n",
    "            previous_tags = previous_token[2]\n",
    "            if 'inc' in previous_tags:\n",
    "                token_score *= 2.0\n",
    "            elif 'dec' in previous_tags:\n",
    "                token_score /= 2.0\n",
    "            elif 'inv' in previous_tags:\n",
    "                token_score *= -1.0\n",
    "        return sentence_score(sentence_tokens[1:], current_token, acum_score + token_score)\n",
    "\n",
    "def sentiment_score(review):\n",
    "    return sum([sentence_score(sentence, None, 0.0) for sentence in review])"
   ]
  },
  {
   "cell_type": "code",
   "execution_count": 26,
   "metadata": {},
   "outputs": [
    {
     "name": "stdout",
     "output_type": "stream",
     "text": [
      "-9.0\n"
     ]
    }
   ],
   "source": [
    "dicttagger = DictionaryTagger([ 'positive.yml', 'negative.yml','strong.yml','weak.yml','inv.yml'])\n",
    "score=0\n",
    "for i in range(len(res)):\n",
    "    dict_tagged_sentences = dicttagger.tag(res[i])\n",
    "\n",
    "\n",
    "    score += sentiment_score(dict_tagged_sentences)\n",
    "print(score)"
   ]
  },
  {
   "cell_type": "code",
   "execution_count": 27,
   "metadata": {},
   "outputs": [
    {
     "name": "stdout",
     "output_type": "stream",
     "text": [
      "('Johan', 'Johan', ['NNP'])\n",
      "('theory', 'theory', ['NN'])\n",
      "('a', 'a', ['DT'])\n"
     ]
    }
   ],
   "source": [
    "for s in dict_tagged_sentences:\n",
    "        print(s[1])\n"
   ]
  },
  {
   "cell_type": "markdown",
   "metadata": {},
   "source": [
    "# Words annotated with their lexico"
   ]
  },
  {
   "cell_type": "code",
   "execution_count": 28,
   "metadata": {},
   "outputs": [
    {
     "data": {
      "text/plain": [
       "[[('In', 'In', ['IN']),\n",
       "  ('Johan', 'Johan', ['NNP']),\n",
       "  ('Galtung', 'Galtung', ['NNP']),\n",
       "  (\"'s\", \"'s\", ['POS']),\n",
       "  ('1969', '1969', ['CD']),\n",
       "  ('paper', 'paper', ['NN']),\n",
       "  (',', ',', [',']),\n",
       "  ('``', '``', ['``']),\n",
       "  ('violence', 'violence', ['negative', 'NN']),\n",
       "  (',', ',', [',']),\n",
       "  ('Peace', 'Peace', ['NNP']),\n",
       "  ('and', 'and', ['CC']),\n",
       "  ('peace research', 'peace research', ['positive']),\n",
       "  (',', ',', [',']),\n",
       "  (\"''\", \"''\", [\"''\"]),\n",
       "  ('[', '[', ['VBZ']),\n",
       "  ('1', '1', ['CD']),\n",
       "  (']', ']', ['NN']),\n",
       "  ('he', 'he', ['PRP']),\n",
       "  ('presents', 'presents', ['VBZ']),\n",
       "  ('his', 'his', ['PRP$']),\n",
       "  ('theory', 'theory', ['NN']),\n",
       "  ('of', 'of', ['IN']),\n",
       "  ('the', 'the', ['DT']),\n",
       "  ('conflict', 'conflict', ['negative', 'NNP']),\n",
       "  ('Triangle', 'Triangle', ['NNP']),\n",
       "  (',', ',', [',']),\n",
       "  ('a', 'a', ['DT']),\n",
       "  ('framework', 'framework', ['NN']),\n",
       "  ('used', 'used', ['VBN']),\n",
       "  ('in', 'in', ['IN']),\n",
       "  ('the', 'the', ['DT']),\n",
       "  ('study', 'study', ['NN']),\n",
       "  ('of', 'of', ['IN']),\n",
       "  ('peace', 'peace', ['NN']),\n",
       "  ('and', 'and', ['CC']),\n",
       "  ('conflict', 'conflict', ['negative', 'NN']),\n",
       "  (',', ',', [',']),\n",
       "  ('with', 'with', ['IN']),\n",
       "  ('the', 'the', ['DT']),\n",
       "  ('purpose', 'purpose', ['NN']),\n",
       "  ('of', 'of', ['IN']),\n",
       "  ('defining', 'defining', ['VBG']),\n",
       "  ('the', 'the', ['DT']),\n",
       "  ('three', 'three', ['CD']),\n",
       "  ('key', 'key', ['JJ']),\n",
       "  ('elements', 'elements', ['NNS']),\n",
       "  ('of', 'of', ['IN']),\n",
       "  ('violence', 'violence', ['negative', 'NN']),\n",
       "  ('that', 'that', ['WDT']),\n",
       "  ('form', 'form', ['NN']),\n",
       "  ('this', 'this', ['DT']),\n",
       "  ('``', '``', ['``']),\n",
       "  ('triangle', 'triangle', ['NN']),\n",
       "  ('.', '.', ['.']),\n",
       "  (\"''\", \"''\", [\"''\"])],\n",
       " [('The', 'The', ['DT']),\n",
       "  ('theory', 'theory', ['NN']),\n",
       "  ('is', 'is', ['VBZ']),\n",
       "  ('based', 'based', ['VBN']),\n",
       "  ('on', 'on', ['IN']),\n",
       "  ('the', 'the', ['DT']),\n",
       "  ('principle', 'principle', ['NN']),\n",
       "  ('that', 'that', ['WDT']),\n",
       "  ('peace', 'peace', ['NN']),\n",
       "  ('must', 'must', ['MD']),\n",
       "  ('be', 'be', ['VB']),\n",
       "  ('defined', 'defined', ['VBN']),\n",
       "  ('by', 'by', ['IN']),\n",
       "  ('widely', 'widely', ['RB']),\n",
       "  ('accepted', 'accepted', ['VBN']),\n",
       "  ('social', 'social', ['JJ']),\n",
       "  ('goals', 'goals', ['NNS']),\n",
       "  (',', ',', [',']),\n",
       "  ('and', 'and', ['CC']),\n",
       "  ('that', 'that', ['IN']),\n",
       "  ('any', 'any', ['DT']),\n",
       "  ('state', 'state', ['NN']),\n",
       "  ('of', 'of', ['IN']),\n",
       "  ('peace', 'peace', ['NN']),\n",
       "  ('is', 'is', ['VBZ']),\n",
       "  ('characterized', 'characterized', ['VBN']),\n",
       "  ('by', 'by', ['IN']),\n",
       "  ('the', 'the', ['DT']),\n",
       "  ('absence', 'absence', ['NN']),\n",
       "  ('of', 'of', ['IN']),\n",
       "  ('violence', 'violence', ['negative', 'NN']),\n",
       "  ('.', '.', ['.'])],\n",
       " [('When', 'When', ['WRB']),\n",
       "  ('a', 'a', ['DT']),\n",
       "  ('conflict', 'conflict', ['negative', 'NN']),\n",
       "  ('has', 'has', ['VBZ']),\n",
       "  ('features', 'features', ['NNS']),\n",
       "  ('of', 'of', ['IN']),\n",
       "  ('all', 'all', ['DT']),\n",
       "  ('three', 'three', ['CD']),\n",
       "  ('areas', 'areas', ['NNS']),\n",
       "  ('of', 'of', ['IN']),\n",
       "  ('violence', 'violence', ['negative', 'NN']),\n",
       "  (',', ',', [',']),\n",
       "  ('the', 'the', ['DT']),\n",
       "  ('result', 'result', ['NN']),\n",
       "  ('is', 'is', ['VBZ']),\n",
       "  ('a', 'a', ['DT']),\n",
       "  ('more', 'more', ['RBR']),\n",
       "  ('consolidated', 'consolidated', ['JJ']),\n",
       "  (',', ',', [',']),\n",
       "  ('static', 'static', ['JJ']),\n",
       "  ('state', 'state', ['NN']),\n",
       "  ('of', 'of', ['IN']),\n",
       "  ('violence', 'violence', ['negative', 'NN']),\n",
       "  ('in', 'in', ['IN']),\n",
       "  ('a', 'a', ['DT']),\n",
       "  ('social', 'social', ['JJ']),\n",
       "  ('system', 'system', ['NN']),\n",
       "  (',', ',', [',']),\n",
       "  ('which', 'which', ['WDT']),\n",
       "  ('may', 'may', ['MD']),\n",
       "  ('include', 'include', ['VB']),\n",
       "  ('a', 'a', ['DT']),\n",
       "  ('conflict', 'conflict', ['negative', 'NN']),\n",
       "  ('or', 'or', ['CC']),\n",
       "  ('a', 'a', ['DT']),\n",
       "  ('nation-state', 'nation-state', ['JJ']),\n",
       "  (',', ',', [',']),\n",
       "  ('whereas', 'whereas', ['IN']),\n",
       "  ('the', 'the', ['DT']),\n",
       "  ('absence', 'absence', ['NN']),\n",
       "  ('of', 'of', ['IN']),\n",
       "  ('these', 'these', ['DT']),\n",
       "  ('three', 'three', ['CD']),\n",
       "  ('typologies', 'typologies', ['NNS']),\n",
       "  ('of', 'of', ['IN']),\n",
       "  ('violence', 'violence', ['negative', 'NN']),\n",
       "  ('results', 'results', ['NNS']),\n",
       "  ('in', 'in', ['IN']),\n",
       "  ('peace', 'peace', ['NN']),\n",
       "  ('.', '.', ['.'])]]"
      ]
     },
     "execution_count": 28,
     "metadata": {},
     "output_type": "execute_result"
    }
   ],
   "source": [
    "dict_tagged_sentences"
   ]
  },
  {
   "cell_type": "code",
   "execution_count": 107,
   "metadata": {},
   "outputs": [
    {
     "data": {
      "image/png": "[encoded data removed]",
      "text/plain": [
       "<Figure size 576x432 with 1 Axes>"
      ]
     },
     "metadata": {},
     "output_type": "display_data"
    }
   ],
   "source": [
    "import matplotlib.pyplot as plt\n",
    "import numpy as np\n",
    "%matplotlib inline\n",
    "plt.figure(figsize=(8,6))\n",
    "label = ['Syria','Brunei','Yemen',]\n",
    "scores = [1,9,-4]\n",
    "def plot_bar_x():\n",
    "    # this is for plotting purpose\n",
    "    index = np.arange(len(label))\n",
    "    plt.bar(index, scores)\n",
    "    plt.xlabel('Country', fontsize=15)\n",
    "    plt.ylabel('Score', fontsize=15)\n",
    "    plt.xticks(index, label, fontsize=15, rotation=30)\n",
    "    plt.title('Peace scores')\n",
    "plot_bar_x()"
   ]
  },
  {
   "cell_type": "code",
   "execution_count": 98,
   "metadata": {},
   "outputs": [
    {
     "data": {
      "image/png": "[encoded data removed]",
      "text/plain": [
       "<Figure size 576x432 with 1 Axes>"
      ]
     },
     "metadata": {},
     "output_type": "display_data"
    }
   ],
   "source": [
    "import matplotlib.pyplot as plt\n",
    "import numpy as np\n",
    "%matplotlib inline\n",
    "plt.figure(figsize=(8,6))\n",
    "label = ['Switzerland','Norway','Sweden']\n",
    "scores = [19,18,21]\n",
    "def plot_bar_x():\n",
    "    # this is for plotting purpose\n",
    "    index = np.arange(len(label))\n",
    "    plt.bar(index, scores)\n",
    "    plt.xlabel('Country', fontsize=15)\n",
    "    plt.ylabel('Score', fontsize=15)\n",
    "    plt.xticks(index, label, fontsize=15, rotation=30)\n",
    "    plt.title('Peace scores')\n",
    "plot_bar_x()"
   ]
  },
  {
   "cell_type": "code",
   "execution_count": 145,
   "metadata": {},
   "outputs": [
    {
     "data": {
      "image/png": "[encoded data removed]",
      "text/plain": [
       "<Figure size 576x432 with 1 Axes>"
      ]
     },
     "metadata": {},
     "output_type": "display_data"
    }
   ],
   "source": [
    "import matplotlib.pyplot as plt\n",
    "import numpy as np\n",
    "%matplotlib inline\n",
    "plt.figure(figsize=(8,6))\n",
    "label = ['Syria','Brunei','Yemen']\n",
    "scores = [-2,-3,-8]\n",
    "def plot_bar_x():\n",
    "    # this is for plotting purpose\n",
    "    index = np.arange(len(label))\n",
    "    plt.bar(index, scores)\n",
    "    plt.xlabel('Country', fontsize=15)\n",
    "    plt.ylabel('Score', fontsize=15)\n",
    "    plt.xticks(index, label, fontsize=15, rotation=30)\n",
    "    plt.title('Peace scores in context of Human Rights')\n",
    "plot_bar_x()"
   ]
  },
  {
   "cell_type": "code",
   "execution_count": null,
   "metadata": {},
   "outputs": [],
   "source": []
  }
 ],
 "metadata": {
  "kernelspec": {
   "display_name": "Python 3",
   "language": "python",
   "name": "python3"
  },
  "language_info": {
   "codemirror_mode": {
    "name": "ipython",
    "version": 3
   },
   "file_extension": ".py",
   "mimetype": "text/x-python",
   "name": "python",
   "nbconvert_exporter": "python",
   "pygments_lexer": "ipython3",
   "version": "3.5.5"
  }
 },
 "nbformat": 4,
 "nbformat_minor": 2
}
