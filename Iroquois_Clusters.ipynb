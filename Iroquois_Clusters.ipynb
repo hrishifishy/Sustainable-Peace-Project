{
 "cells": [
  {
   "cell_type": "code",
   "execution_count": 1,
   "metadata": {},
   "outputs": [
    {
     "name": "stdout",
     "output_type": "stream",
     "text": [
      "[nltk_data] Downloading package punkt to\n",
      "[nltk_data]     /Users/hrishikeshtelang/nltk_data...\n",
      "[nltk_data]   Package punkt is already up-to-date!\n"
     ]
    },
    {
     "data": {
      "text/plain": [
       "True"
      ]
     },
     "execution_count": 1,
     "metadata": {},
     "output_type": "execute_result"
    }
   ],
   "source": [
    "import nltk\n",
    "import pandas as pd\n",
    "import csv\n",
    "from pprint import pprint\n",
    "from nltk.tokenize import sent_tokenize, word_tokenize\n",
    "from nltk.corpus import stopwords\n",
    "from nltk import word_tokenize\n",
    "from nltk.stem.wordnet import WordNetLemmatizer\n",
    "nltk.download('punkt')\n",
    "\n"
   ]
  },
  {
   "cell_type": "code",
   "execution_count": 80,
   "metadata": {},
   "outputs": [
    {
     "data": {
      "text/plain": [
       "['security',\n",
       " 'regime',\n",
       " 'among',\n",
       " 'democracy',\n",
       " 'cooperation',\n",
       " 'among',\n",
       " 'iroquois',\n",
       " 'nation',\n",
       " 'neta',\n",
       " 'crawford']"
      ]
     },
     "execution_count": 80,
     "metadata": {},
     "output_type": "execute_result"
    }
   ],
   "source": [
    "sentences=[]\n",
    "df1 = pd.read_csv('cleanIR.csv',delimiter=\"\\n\")\n",
    "df1.columns=['content']\n",
    "df1\n",
    "for i in range(9373):\n",
    "    sentences.append(df1.content[i].split())\n",
    "sentences[10]\n"
   ]
  },
  {
   "cell_type": "code",
   "execution_count": 81,
   "metadata": {},
   "outputs": [
    {
     "name": "stdout",
     "output_type": "stream",
     "text": [
      "Dictionary(20751 unique tokens: ['demo', 'uniperse', 'confronting', 'kant', 'parasite']...)\n"
     ]
    }
   ],
   "source": [
    "import gensim\n",
    "dictionary = gensim.corpora.Dictionary(sentences)\n",
    "print(dictionary)"
   ]
  },
  {
   "cell_type": "code",
   "execution_count": 82,
   "metadata": {},
   "outputs": [
    {
     "name": "stdout",
     "output_type": "stream",
     "text": [
      "[(0, 1.0)]\n"
     ]
    }
   ],
   "source": [
    "bow_corpus = [dictionary.doc2bow(doc) for doc in sentences]\n",
    "from gensim import corpora, models\n",
    "tfidf = models.TfidfModel(bow_corpus)\n",
    "corpus_tfidf = tfidf[bow_corpus]\n",
    "from pprint import pprint\n",
    "for doc in corpus_tfidf:\n",
    "    pprint(doc)\n",
    "    break"
   ]
  },
  {
   "cell_type": "code",
   "execution_count": 83,
   "metadata": {},
   "outputs": [
    {
     "name": "stdout",
     "output_type": "stream",
     "text": [
      "Topic: 0 Word: 0.005*\"iroquois\" + 0.003*\"league\" + 0.002*\"morgan\" + 0.002*\"iroquoia\" + 0.002*\"economics\" + 0.002*\"site\" + 0.002*\"mohawk\" + 0.002*\"nation\" + 0.002*\"woman\" + 0.002*\"peace\"\n",
      "Topic: 1 Word: 0.003*\"iroquois\" + 0.003*\"nation\" + 0.002*\"lafitau\" + 0.002*\"economics\" + 0.002*\"peace\" + 0.002*\"seneca\" + 0.002*\"site\" + 0.002*\"village\" + 0.001*\"great\" + 0.001*\"five\"\n"
     ]
    }
   ],
   "source": [
    "lda_model_tfidf = gensim.models.LdaMulticore(corpus_tfidf, num_topics=2, id2word=dictionary)\n",
    "for idx, topic in lda_model_tfidf.print_topics(-1):\n",
    "    print('Topic: {} Word: {}'.format(idx, topic))"
   ]
  },
  {
   "cell_type": "markdown",
   "metadata": {},
   "source": [
    "# Doc2Vec"
   ]
  },
  {
   "cell_type": "code",
   "execution_count": 84,
   "metadata": {},
   "outputs": [],
   "source": [
    "from gensim.models.doc2vec import Doc2Vec, TaggedDocument"
   ]
  },
  {
   "cell_type": "code",
   "execution_count": 85,
   "metadata": {},
   "outputs": [],
   "source": [
    "j=0\n",
    "LabeledSentence1 = gensim.models.doc2vec.TaggedDocument\n",
    "tagged_data=[]\n",
    "for i in sentences:\n",
    "    tagged_data.append(LabeledSentence1(i,[j]))\n",
    "    j=j+1\n",
    "    "
   ]
  },
  {
   "cell_type": "code",
   "execution_count": 86,
   "metadata": {},
   "outputs": [
    {
     "data": {
      "text/plain": [
       "9373"
      ]
     },
     "execution_count": 86,
     "metadata": {},
     "output_type": "execute_result"
    }
   ],
   "source": [
    "len(tagged_data)"
   ]
  },
  {
   "cell_type": "code",
   "execution_count": 87,
   "metadata": {},
   "outputs": [
    {
     "name": "stderr",
     "output_type": "stream",
     "text": [
      "/anaconda3/envs/tensorflow/lib/python3.5/site-packages/gensim/models/doc2vec.py:366: UserWarning: The parameter `size` is deprecated, will be removed in 4.0.0, use `vector_size` instead.\n",
      "  warnings.warn(\"The parameter `size` is deprecated, will be removed in 4.0.0, use `vector_size` instead.\")\n"
     ]
    }
   ],
   "source": [
    "d2v_model = Doc2Vec(tagged_data, size = 2000, window = 10, min_count = 500, workers=7, dm = 1, \n",
    "                alpha=0.025, min_alpha=0.001)"
   ]
  },
  {
   "cell_type": "code",
   "execution_count": 88,
   "metadata": {},
   "outputs": [],
   "source": [
    "d2v_model.train(tagged_data, total_examples=d2v_model.corpus_count, epochs=10, start_alpha=0.002, end_alpha=-0.016)"
   ]
  },
  {
   "cell_type": "markdown",
   "metadata": {},
   "source": [
    "# Checking similar documents"
   ]
  },
  {
   "cell_type": "code",
   "execution_count": 89,
   "metadata": {},
   "outputs": [
    {
     "name": "stdout",
     "output_type": "stream",
     "text": [
      "[(1461, 0.07600613683462143), (5407, 0.07431960105895996), (7553, 0.07242535054683685), (7756, 0.07112127542495728), (3844, 0.06970618665218353), (3696, 0.0688977986574173), (583, 0.06796165555715561), (5670, 0.06779761612415314), (9063, 0.06706210970878601), (2262, 0.0665554329752922)]\n",
      "TaggedDocument(['parker', 'constitution', 'five', 'nation'], [175]) TaggedDocument(['given', 'people', 'time', 'useful', 'necessary', 'obseiver', 'cadwallader', 'colden', 'noted', 'nation', 'absolute', 'republick', 'every', 'castle', 'nation', 'make', 'independent', 'republick', 'governed', 'publick', 'affair', 'sachem', 'fenton', 'argues', 'community', 'local', 'zealously', 'maintained', 'defended', 'note', 'diversity', 'continues', 'historian', 'agree', 'five', 'nation', 'retained', 'full', 'sovereignty', 'affair', 'importantly', 'member', 'iroquois', 'league', 'free', 'make', 'peace'], [143])\n"
     ]
    },
    {
     "data": {
      "text/plain": [
       "TaggedDocument(words=['grateful', 'elizabeth', 'cohen', 'barbara', 'cruikshank', 'stanley', 'hoffmann', 'robert', 'keohane', 'peterson', 'laura', 'reed', 'bruce', 'russett', 'giving', 'article', 'particularly', 'close', 'critical', 'reading', 'sarah', 'deutsch', 'james', 'derian', 'cynthia', 'enloe', 'steven', 'flank', 'david', 'guston', 'peter', 'haas', 'jack', 'levy', 'barry', 'peterson', 'jackie', 'urla', 'also', 'made', 'useful', 'suggestion', 'steve', 'miller', 'harvard', 'center', 'science', 'international', 'affair', 'provided', 'institutional', 'support', 'research', 'anonymous', 'reviewer', 'john', 'odell', 'international', 'organization', 'critic', 'best', 'sort', 'finally', 'grateful', 'descendent', 'nation', 'many', 'live', 'york', 'ontario', 'quebec'], tags=[18])"
      ]
     },
     "execution_count": 89,
     "metadata": {},
     "output_type": "execute_result"
    }
   ],
   "source": [
    "print (d2v_model.docvecs.most_similar(18))\n",
    "print(tagged_data[175],tagged_data[143])\n",
    "tagged_data[18]"
   ]
  },
  {
   "cell_type": "markdown",
   "metadata": {},
   "source": [
    "# K-Means"
   ]
  },
  {
   "cell_type": "code",
   "execution_count": 90,
   "metadata": {},
   "outputs": [
    {
     "name": "stderr",
     "output_type": "stream",
     "text": [
      "/anaconda3/envs/tensorflow/lib/python3.5/site-packages/ipykernel_launcher.py:6: DeprecationWarning: Call to deprecated `doctag_syn0` (Attribute will be removed in 4.0.0, use docvecs.vectors_docs instead).\n",
      "  \n",
      "/anaconda3/envs/tensorflow/lib/python3.5/site-packages/ipykernel_launcher.py:8: DeprecationWarning: Call to deprecated `doctag_syn0` (Attribute will be removed in 4.0.0, use docvecs.vectors_docs instead).\n",
      "  \n",
      "/anaconda3/envs/tensorflow/lib/python3.5/site-packages/ipykernel_launcher.py:9: DeprecationWarning: Call to deprecated `doctag_syn0` (Attribute will be removed in 4.0.0, use docvecs.vectors_docs instead).\n",
      "  if __name__ == '__main__':\n",
      "/anaconda3/envs/tensorflow/lib/python3.5/site-packages/ipykernel_launcher.py:10: DeprecationWarning: Call to deprecated `doctag_syn0` (Attribute will be removed in 4.0.0, use docvecs.vectors_docs instead).\n",
      "  # Remove the CWD from sys.path while we load stuff.\n"
     ]
    }
   ],
   "source": [
    "from sklearn.cluster import KMeans\n",
    "import matplotlib.pyplot as plt\n",
    "from sklearn.decomposition import PCA\n",
    "\n",
    "kmeans_model = KMeans(n_clusters=2, init='k-means++', max_iter=100)  \n",
    "X = kmeans_model.fit(d2v_model.docvecs.doctag_syn0)\n",
    "labels=kmeans_model.labels_.tolist()\n",
    "l = kmeans_model.fit_predict(d2v_model.docvecs.doctag_syn0)\n",
    "pca = PCA(n_components=2).fit(d2v_model.docvecs.doctag_syn0)\n",
    "datapoint = pca.transform(d2v_model.docvecs.doctag_syn0)"
   ]
  },
  {
   "cell_type": "markdown",
   "metadata": {},
   "source": [
    "# Unclear results obtained for Iroquois"
   ]
  },
  {
   "cell_type": "code",
   "execution_count": 91,
   "metadata": {},
   "outputs": [
    {
     "data": {
      "image/png": "[encoded data removed]",
      "text/plain": [
       "<Figure size 432x288 with 1 Axes>"
      ]
     },
     "metadata": {},
     "output_type": "display_data"
    }
   ],
   "source": [
    "plt.figure\n",
    "label1 = [\"#FFFF00\", \"#008000\"]\n",
    "color = [label1[i] for i in labels]\n",
    "plt.scatter(datapoint[:, 0], datapoint[:, 1], c=color)\n",
    "\n",
    "centroids = kmeans_model.cluster_centers_\n",
    "centroidpoint = pca.transform(centroids)\n",
    "plt.scatter(centroidpoint[:, 0], centroidpoint[:, 1], marker='^', s=150, c='#000000')\n",
    "plt.show()"
   ]
  },
  {
   "cell_type": "code",
   "execution_count": 77,
   "metadata": {},
   "outputs": [
    {
     "name": "stdout",
     "output_type": "stream",
     "text": [
      "done\n"
     ]
    }
   ],
   "source": [
    "with open('simwest.csv', 'w',encoding=\"utf-8\") as writer:\n",
    "    writer = csv.writer(writer, delimiter=' ', quotechar='|', quoting=csv.QUOTE_MINIMAL)\n",
    "    for n in range(11803):\n",
    "        l=[]\n",
    "        for i in d2v_model.docvecs.most_similar(n):\n",
    "            \n",
    "            a=i[0]\n",
    "            l.append(tagged_data[a])\n",
    "        writer.writerow(l)\n",
    "print(\"done\")"
   ]
  },
  {
   "cell_type": "code",
   "execution_count": 62,
   "metadata": {},
   "outputs": [
    {
     "name": "stdout",
     "output_type": "stream",
     "text": [
      "TaggedDocument(['reason', 'studying', 'general', 'item', 'swedish', 'side', 'used', 'later', 'part', 'study', 'torsten', 'gihl', 'svenska', 'utrikespolitikens', 'historia', 'stockholm', 'eric', 'bellquist', 'aspect', 'recent', 'swedish', 'foreign', 'policy', 'university', 'california', 'publication', 'berkeley', 'norwegian', 'published', 'three', 'work', 'interest', 'bernt', 'nissen', 'oslo'], [11000])\n",
      "0\n",
      "TaggedDocument(['merkelige', 'oslo', 'yngvar', 'nielsen', 'norge'], [11001])\n",
      "0\n",
      "TaggedDocument(['horton', 'general', 'interest', 'serving'], [11002])\n",
      "0\n",
      "TaggedDocument(['broader', 'expanse', 'norwegian', 'history', 'work', 'orvik', 'decline', 'fall', 'neutrality', 'oslo'], [11003])\n",
      "0\n",
      "TaggedDocument(['faines', 'norway', 'nobel', 'peace', 'prize', 'york', 'national', 'romanticism', 'norway', 'york', 'theodore', 'jorgenson', 'norway', 'relation', 'scandinavian', 'unionism', 'northfield', 'wilhelm', 'keilhau', 'norge', 'verdensk', 'oslo', 'arne', 'bergsgiird'], [11004])\n",
      "1\n",
      "TaggedDocument(['oslo', 'sverr', 'steen'], [11005])\n",
      "0\n",
      "TaggedDocument(['norge', 'oslo'], [11006])\n",
      "0\n",
      "TaggedDocument(['general', 'terials', 'used', 'last', 'chapter', 'book', 'bably', 'best', 'still', 'manuscrip', 'otto', 'leroy', 'lstro', 'doctoral', 'thesis', 'university', 'chicago', 'approach', 'political', 'integration', 'martha', 'rytten', 'master', 'thesis', 'versity', 'consin', 'scandinavian', 'country', 'united', 'nation'], [11007])\n",
      "0\n",
      "TaggedDocument(['political', 'problem', 'shepard', 'jones', 'scandi', 'navian', 'league', 'natio', 'prin'], [11008])\n",
      "0\n",
      "TaggedDocument(['account', 'scandinavian', 'cooperation', 'league', 'eric', 'bellquist', 'vocative', 'forma', 'tive', 'ticle', 'coop', 'eration', 'annals', 'rican', 'academy', 'poli', 'tical', 'social', 'science', 'july', 'giving', 'part', 'detail', 'integration', 'functional', 'aspect', 'wartime', 'cooperation', 'scandinavian', 'country', 'covered', 'work', 'alex', 'krigsaarene', 'copenhagen', 'carnegie', 'endowment', 'economic', 'study', 'heckscher', 'kurt', 'bergendahl', 'sweden', 'norway', 'denmark', 'iceland', 'world', 'survey', 'aage'], [11009])\n",
      "1\n",
      "TaggedDocument(['bibliography'], [11010])\n",
      "0\n",
      "TaggedDocument(['norden', 'copenhagen', 'well', 'finn', 'friis', 'account', 'dansk', 'deltagelse', 'nordiske', 'bejde', 'danmark', 'kultur', 'copenhagen', 'scandinavian', 'defense', 'union', 'work', 'tial', 'karlstrom', 'mentioned', 'lennart', 'feldt', 'skandinavien', 'atlantpakten', 'skandinaviska', 'forhandlingarna', 'varldspolitikens', 'dagsfrtlgor', 'stockholm', 'scandinavian', 'experimen', 'scandinavian', 'airline', 'system', 'well', 'told', 'robert', 'nelson', 'article', 'scandinavian', 'airline', 'system', 'cooperation', 'journal', 'commerce', 'abstract', 'longer', 'doctoral', 'thesis', 'boston', 'university'], [11011])\n",
      "0\n",
      "TaggedDocument(['historian', 'return', 'magnificent', 'tional', 'history', 'norway', 'edvard', 'bull', 'wilhelm', 'keilhau', 'haakon', 'shetelig', 'sverre', 'steen', 'norske', 'folk', 'historie', 'gjennem', 'tidene', 'oslo', 'sweden', 'sverige', 'historia', 'till', 'vara', 'dagar', 'emil', 'hildebrand', 'stockholm', 'appropriate', 'volume', 'historian', 'general', 'version', 'union', 'place', 'story', 'must', 'mented', 'material', 'especially', 'twentieth', 'century', 'historian', 'country', 'done', 'bring', 'alive', 'time', 'trouble'], [11012])\n",
      "1\n",
      "TaggedDocument(['bibliographical', 'essay', 'began', 'comment', 'lack', 'completeness', 'must', 'close', 'apology', 'historian', 'whose', 'work', 'mentioned', 'ican', 'reader', 'turn', 'ingvar', 'andersson', 'history', 'sweden', 'york', 'karen', 'larsen', 'history', 'norway', 'find', 'convenient', 'summary', 'bles', 'union', 'country', 'history', 'actually', 'however', 'historian', 'must', 'archive', 'manuscript', 'bring', 'real', 'story', 'union', 'nordic', 'tegration', 'even', 'believe', 'written', 'remember', 'well', 'hold', 'caricature', 'neighbor', 'across', 'border'], [11013])\n",
      "0\n",
      "TaggedDocument(['ahtisaari', 'aceh'], [11014])\n",
      "0\n",
      "TaggedDocument(['content'], [11015])\n",
      "0\n",
      "TaggedDocument(['making', 'peace'], [11016])\n",
      "0\n",
      "TaggedDocument(['part'], [11017])\n",
      "0\n",
      "TaggedDocument(['thwe'], [11018])\n",
      "0\n",
      "TaggedDocument(['writer', 'awarded', 'state', 'public', 'information', 'grant', 'culture', 'promotion', 'grant', 'finnish', 'union', 'journalist', 'foreign', 'ministry', 'travel', 'grant', 'support', 'project'], [11019])\n",
      "0\n",
      "TaggedDocument(['katri', 'merikallio', 'index', 'ilona', 'raiha'], [11020])\n",
      "0\n",
      "TaggedDocument(['isbn'], [11021])\n",
      "0\n",
      "TaggedDocument(['bookwell', 'juva'], [11022])\n",
      "0\n",
      "TaggedDocument(['overture', 'first', 'round', 'negotiation'], [11023])\n",
      "0\n",
      "TaggedDocument(['tentative', 'overture'], [11024])\n",
      "0\n",
      "TaggedDocument(['crisis', 'second', 'round', 'negotiation'], [11025])\n",
      "0\n",
      "TaggedDocument(['coha', 'fall'], [11026])\n",
      "0\n",
      "TaggedDocument(['ayatollah', 'ahtlsaari'], [11027])\n",
      "0\n",
      "TaggedDocument(['tired'], [11028])\n",
      "0\n",
      "TaggedDocument(['breakthrough', 'third', 'round'], [11029])\n",
      "0\n",
      "TaggedDocument(['brussels', 'becomes', 'involved'], [11030])\n",
      "0\n",
      "TaggedDocument(['intensive', 'work', 'fourth', 'round', 'negotiation'], [11031])\n",
      "0\n",
      "TaggedDocument(['drawing', 'final', 'agreement'], [11032])\n",
      "0\n",
      "TaggedDocument(['flnal', 'push', 'fifth', 'round', 'negotiation'], [11033])\n",
      "0\n",
      "TaggedDocument(['jungle'], [11034])\n",
      "0\n",
      "TaggedDocument(['panlc'], [11035])\n",
      "0\n",
      "TaggedDocument(['signature', 'smolna'], [11036])\n",
      "0\n",
      "TaggedDocument(['part'], [11037])\n",
      "0\n",
      "TaggedDocument(['martt', 'ahtisaarl', 'mediator', 'must', 'know', 'want'], [11038])\n",
      "0\n",
      "TaggedDocument(['ahtlsaarl'], [11039])\n",
      "0\n",
      "TaggedDocument(['part'], [11040])\n",
      "0\n",
      "TaggedDocument(['much', 'awaited', 'amnesty'], [11041])\n",
      "0\n",
      "TaggedDocument(['handing', 'overthea'], [11042])\n",
      "0\n",
      "TaggedDocument(['first', 'round', 'lrwandl', 'show'], [11043])\n",
      "0\n",
      "TaggedDocument(['second', 'round', 'weapon', 'needed'], [11044])\n",
      "0\n",
      "TaggedDocument(['third', 'round', 'sllm', 'plcklngs'], [11045])\n",
      "0\n",
      "TaggedDocument(['fourth', 'round', 'bottom', 'barrel'], [11046])\n",
      "0\n",
      "TaggedDocument(['work'], [11047])\n",
      "0\n",
      "TaggedDocument(['back', 'clvlllan', 'llfe'], [11048])\n",
      "0\n",
      "TaggedDocument(['respect', 'human', 'rlghts'], [11049])\n",
      "0\n",
      "TaggedDocument(['newlawforaceh'], [11050])\n",
      "0\n",
      "TaggedDocument(['conclusion'], [11051])\n",
      "0\n",
      "TaggedDocument(['interview', 'abbrevlations'], [11052])\n",
      "0\n",
      "TaggedDocument(['index'], [11053])\n",
      "0\n",
      "TaggedDocument(['orandum', 'understanding'], [11054])\n",
      "0\n",
      "TaggedDocument(['aceh'], [11055])\n",
      "0\n",
      "TaggedDocument(['making', 'peace'], [11056])\n",
      "0\n",
      "TaggedDocument(['beautiful', 'province', 'aceh', 'northern', 'island', 'sumatra', 'westernmost', 'corner', 'indonesia', 'fought', 'almost', 'year', 'rich', 'natural', 'resource', 'aceh', 'donesia', 'poorest', 'underdeveloped', 'province'], [11057])\n",
      "0\n",
      "TaggedDocument(['indonesian', 'government', 'belief', 'aceh', 'poor', 'armed', 'resistance', 'movement', 'seeking', 'independence', 'preventing', 'development', 'aceh', 'liberation', 'movement', 'thing', 'differently', 'view', 'struggle', 'independence', 'taking', 'place', 'aceh', 'democracy', 'justice', 'province', 'human', 'right', 'aceh', 'people', 'elly', 'trampled', 'taken'], [11058])\n",
      "1\n",
      "TaggedDocument(['according', 'various', 'estimate', 'died', 'decade', 'fighting', 'aceh', 'peace', 'party', 'sought', 'numerous', 'time', 'attempt', 'always', 'failed'], [11059])\n",
      "0\n",
      "TaggedDocument(['first', 'news', 'peace', 'negotiation', 'aceh', 'held', 'helsinki', 'appeared', 'international', 'medium', 'january', 'many', 'sceptic'], [11060])\n",
      "0\n",
      "TaggedDocument(['finland', 'former', 'president', 'martti', 'ahtisaari', 'succeed', 'better', 'earlier', 'attempt'], [11061])\n",
      "0\n",
      "TaggedDocument(['seven', 'month', 'five', 'secret', 'round', 'negotiation', 'later', 'indonesian', 'government', 'signed', 'peace', 'agreement', 'smolna', 'helsinki', 'aimed', 'ending', 'conflict', 'leading', 'aceh'], [11062])\n",
      "0\n",
      "TaggedDocument(['path', 'democracy', 'remaining', 'part', 'indonesia'], [11063])\n",
      "0\n",
      "TaggedDocument(['purpose', 'book', 'seek', 'answer', 'question', 'ahtisaari', 'succeed', 'others', 'failed', 'brought', 'opposing', 'party', 'negotiating', 'table', 'found', 'critical', 'question', 'agreement', 'eventually', 'formulated'], [11064])\n",
      "0\n",
      "TaggedDocument(['latter', 'part', 'book', 'describes', 'group', 'comprised', 'representative', 'asean', 'country', 'monitoring', 'plementation', 'agreement', 'peace', 'built', 'ground', 'province', 'aceh'], [11065])\n",
      "1\n",
      "TaggedDocument(['every', 'conflict', 'world', 'different', 'historical', 'reason', 'change', 'faction', 'environment', 'people', 'however', 'miliarity', 'many', 'factor', 'involved', 'aceh', 'peace', 'process', 'help', 'solve', 'world', 'conflict', 'second', 'reason', 'writing', 'book'], [11066])\n",
      "1\n",
      "TaggedDocument(['book', 'scientific', 'historical', 'report', 'peace', 'process', 'journalistic', 'investigation', 'birth', 'peace', 'work', 'contains', 'asubjective', 'take', 'event', 'hope', 'took', 'part', 'process', 'perceive', 'unseemly', 'tions', 'truth'], [11067])\n",
      "0\n",
      "TaggedDocument(['book', 'also', 'includes', 'extract', 'article', 'wrote', 'weekly', 'news', 'magazine', 'suomen', 'kuualehti'], [11068])\n",
      "0\n",
      "TaggedDocument(['would', 'like', 'thank', 'jaakko', 'oksanen', 'juha', 'christensen', 'kalle', 'liesinen', 'robert', 'hygrell', 'leena', 'avonius', 'support', 'playing', 'significant', 'role', 'bringing', 'book'], [11069])\n",
      "0\n",
      "TaggedDocument(['greatest', 'thanks', 'husband', 'likka', 'vehkalahti', 'whose', 'professional', 'moral', 'support', 'crucial', 'writing', 'book'], [11070])\n",
      "0\n",
      "TaggedDocument(['helsinki', 'august'], [11071])\n",
      "0\n",
      "TaggedDocument(['katri', 'merikallio'], [11072])\n",
      "0\n",
      "TaggedDocument(['part'], [11073])\n",
      "0\n",
      "TaggedDocument(['wave'], [11074])\n",
      "0\n",
      "TaggedDocument(['december'], [11075])\n",
      "0\n",
      "TaggedDocument(['morning', 'balmy', 'generally', 'aceh', 'lrwandi', 'jusuf', 'exercising', 'yard', 'banda', 'aceh', 'prison', 'ground', 'began', 'tremble', 'veterinarian', 'head', 'guerrilla', 'movement', 'intelligence', 'service', 'irwandi', 'prison', 'month', 'wound', 'inflicted', 'torture', 'abuse', 'fresh'], [11076])\n",
      "0\n",
      "TaggedDocument(['gull', 'flying', 'towards', 'land', 'knew', 'immediately', 'quake', 'could', 'lead', 'tsunami', 'happens', 'water', 'swish', 'bowl', 'spill', 'urged', 'climb', 'flagpole', 'water', 'receding', 'happening', 'knew', 'time', 'waste'], [11077])\n",
      "0\n",
      "TaggedDocument(['wave', 'broke', 'prison', 'wall', 'irwandi', 'already', 'climbed', 'second', 'floor', 'water', 'also', 'crashed', 'enormous', 'force', 'irwandi', 'rose', 'water', 'ever', 'closer', 'prison', 'roof', 'solid', 'wall', 'barred', 'window', 'prevented', 'escape'], [11078])\n",
      "0\n",
      "TaggedDocument(['already', 'certain', 'ended', 'head', 'ceiling', 'realised', 'could', 'break'], [11079])\n",
      "0\n",
      "TaggedDocument(['prisoner', 'drowned', 'cell', 'crushed', 'beneath', 'wall', 'among', 'sofyan', 'ibrahim', 'tiba', 'expert', 'chief', 'negotiator', 'previous', 'peace', 'attempt', 'lrwandi', 'ceeded', 'reaching', 'safety', 'roof', 'escaped', 'first'], [11080])\n",
      "1\n",
      "TaggedDocument(['ruin', 'home', 'banda', 'aceh', 'jakarta', 'thought', 'time', 'come'], [11081])\n",
      "0\n",
      "TaggedDocument(['irwandi', 'know', 'enormity', 'task', 'ahead'], [11082])\n",
      "0\n",
      "TaggedDocument(['village', 'suwak', 'sigadeng', 'banda', 'aceh', 'fishing', 'morning', 'break', 'cafe', 'owned', 'elderly', 'nursiba', 'risen', 'five', 'bake', 'cake', 'granddaughter', 'rosa', 'tasty', 'aroma', 'cake', 'already', 'coming', 'oven', 'ground', 'began', 'tremble'], [11083])\n",
      "0\n",
      "TaggedDocument(['house', 'shook', 'rosa', 'clung', 'round', 'grandma', 'neck', 'wall', 'held', 'dish', 'eventually', 'falling', 'floor'], [11084])\n",
      "0\n",
      "TaggedDocument(['soon', 'nursiba', 'elder', 'daughter', 'neighbouring', 'house', 'check', 'grandma', 'rosa', 'alright', 'nursiba', 'husband', 'couple', 'younger', 'daughter', 'stayed', 'behind', 'pick', 'ters', 'glass', 'cafe', 'floor'], [11085])\n",
      "0\n",
      "TaggedDocument(['suddenly', 'heard', 'enormous', 'roar', 'though', 'aeroplane', 'flown', 'glanced', 'shoulder', 'water', 'towards'], [11086])\n",
      "0\n",
      "TaggedDocument(['rosa', 'nursiba', 'began', 'daughter', 'ging', 'rosa', 'sister', 'deci', 'hand', 'woman', 'water', 'swept', 'away', 'nursiba', 'remembers', 'ment', 'rosa', 'grip', 'slipped', 'around', 'neck'], [11087])\n",
      "0\n",
      "TaggedDocument(['morning', 'nursiba', 'lost', 'everything', 'three', 'dren', 'grandchild', 'husband', 'livelihood', 'village', 'trace', 'life', 'remained', 'even', 'photograph'], [11088])\n",
      "0\n",
      "TaggedDocument(['dozen', 'kilometre', 'banda', 'aceh', 'small', 'company', 'fighter', 'looking', 'high', 'mountain', 'receding', 'ever', 'coast', 'home', 'village', 'lamtengoh', 'understand', 'happened', 'earthquake', 'familiar', 'guerrilla', 'living', 'jungle'], [11089])\n",
      "0\n",
      "TaggedDocument(['running', 'away'], [11090])\n",
      "0\n",
      "TaggedDocument(['wave', 'began', 'wash', 'village', 'alise', 'happening', 'boat', 'spinning', 'around', 'amidst', 'house', 'explains', 'nasrullah', 'group', 'leader'], [11091])\n",
      "0\n",
      "TaggedDocument(['nasrullah', 'sent', 'village', 'situation'], [11092])\n",
      "0\n",
      "TaggedDocument(['came', 'back', 'told', 'longer', 'village', 'turned', 'went', 'mountain', 'shocking', 'body', 'junk', 'badly', 'injured', 'people', 'tered', 'along', 'side', 'mountain', 'tried', 'help', 'bind', 'wound', 'give', 'food', 'water', 'continued', 'help', 'around', 'clock', 'village'], [11093])\n",
      "0\n",
      "TaggedDocument(['tsunami', 'nasrullah', 'lost', 'mother', 'father', 'three', 'younger', 'sister', 'younger', 'brother', 'found', 'alive', 'company', 'lost', 'everything', 'village', 'inhabitant', 'survived'], [11094])\n",
      "0\n",
      "TaggedDocument(['riot', 'police', 'based', 'village', 'also', 'badly', 'three', 'survived'], [11095])\n",
      "0\n",
      "TaggedDocument(['water', 'subsided', 'young', 'stayed', 'stroyed', 'village', 'order', 'clear', 'attack'], [11096])\n",
      "0\n",
      "TaggedDocument(['indonesian', 'army', 'issue', 'instruction', 'week', 'tsunami', 'army', 'village', 'full', 'force', 'nasrullah', 'forced', 'flee', 'back', 'mountain'], [11097])\n",
      "0\n",
      "TaggedDocument(['international', 'medium', 'reported', 'extensively', 'operation', 'threat', 'disease', 'fate', 'homeless', 'attention', 'however', 'centred', 'thailand', 'lanka', 'holiday', 'thousand', 'tourist', 'ended', 'shocking', 'manner', 'nordic', 'country', 'great', 'britain', 'germany', 'particular', 'overcome', 'grief', 'information', 'death', 'whole', 'family', 'came', 'resort'], [11098])\n",
      "0\n",
      "TaggedDocument(['soon', 'became', 'known', 'greatest', 'destruction', 'caused', 'wave', 'wreaked', 'aceh', 'indonesia', 'true', 'extent'], [11099])\n",
      "0\n"
     ]
    }
   ],
   "source": []
  },
  {
   "cell_type": "code",
   "execution_count": 92,
   "metadata": {},
   "outputs": [
    {
     "name": "stdout",
     "output_type": "stream",
     "text": [
      "4726 4647\n"
     ]
    }
   ],
   "source": [
    "zero=0\n",
    "for i in labels:\n",
    "    if i==0:\n",
    "        zero=zero+1\n",
    "ones=len(labels)-zero\n",
    "print(zero,ones)"
   ]
  },
  {
   "cell_type": "code",
   "execution_count": null,
   "metadata": {},
   "outputs": [],
   "source": []
  }
 ],
 "metadata": {
  "kernelspec": {
   "display_name": "Python 3",
   "language": "python",
   "name": "python3"
  },
  "language_info": {
   "codemirror_mode": {
    "name": "ipython",
    "version": 3
   },
   "file_extension": ".py",
   "mimetype": "text/x-python",
   "name": "python",
   "nbconvert_exporter": "python",
   "pygments_lexer": "ipython3",
   "version": "3.5.5"
  }
 },
 "nbformat": 4,
 "nbformat_minor": 2
}
