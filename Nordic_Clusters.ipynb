{
 "cells": [
  {
   "cell_type": "code",
   "execution_count": 1,
   "metadata": {},
   "outputs": [
    {
     "name": "stdout",
     "output_type": "stream",
     "text": [
      "[nltk_data] Error loading punkt: <urlopen error [Errno 8] nodename nor\n",
      "[nltk_data]     servname provided, or not known>\n"
     ]
    },
    {
     "data": {
      "text/plain": [
       "False"
      ]
     },
     "execution_count": 1,
     "metadata": {},
     "output_type": "execute_result"
    }
   ],
   "source": [
    "import nltk\n",
    "import pandas as pd\n",
    "import csv\n",
    "from pprint import pprint\n",
    "from nltk.tokenize import sent_tokenize, word_tokenize\n",
    "from nltk.corpus import stopwords\n",
    "from nltk import word_tokenize\n",
    "from nltk.stem.wordnet import WordNetLemmatizer\n",
    "nltk.download('punkt')\n",
    "\n"
   ]
  },
  {
   "cell_type": "code",
   "execution_count": 2,
   "metadata": {},
   "outputs": [
    {
     "data": {
      "text/plain": [
       "['even',\n",
       " 'source',\n",
       " 'conflict',\n",
       " 'present',\n",
       " 'commercial',\n",
       " 'conflicting',\n",
       " 'interest',\n",
       " 'wholly',\n",
       " 'incompatible',\n",
       " 'true',\n",
       " 'extent',\n",
       " 'gain',\n",
       " 'party',\n",
       " 'must',\n",
       " 'become',\n",
       " 'loss',\n",
       " 'usually',\n",
       " 'exis',\n",
       " 'tbat',\n",
       " 'party',\n",
       " 'interest']"
      ]
     },
     "execution_count": 2,
     "metadata": {},
     "output_type": "execute_result"
    }
   ],
   "source": [
    "sentences=[]\n",
    "df1=pd.read_csv('cleannord.csv',delimiter=\"\\n\")\n",
    "df1.columns=['content']\n",
    "df1\n",
    "for i in range(15823):\n",
    "    sentences.append(df1.content[i].split())\n",
    "sentences[10]\n"
   ]
  },
  {
   "cell_type": "code",
   "execution_count": 3,
   "metadata": {},
   "outputs": [
    {
     "name": "stdout",
     "output_type": "stream",
     "text": [
      "Dictionary(28308 unique tokens: ['oomctirne', 'pond', 'shirt', 'circlement', 'occurence']...)\n"
     ]
    }
   ],
   "source": [
    "import gensim\n",
    "dictionary = gensim.corpora.Dictionary(sentences)\n",
    "print(dictionary)"
   ]
  },
  {
   "cell_type": "code",
   "execution_count": 4,
   "metadata": {},
   "outputs": [
    {
     "name": "stdout",
     "output_type": "stream",
     "text": [
      "[(0, 0.42700466079027483), (1, 0.90424942336911796)]\n"
     ]
    }
   ],
   "source": [
    "bow_corpus = [dictionary.doc2bow(doc) for doc in sentences]\n",
    "from gensim import corpora, models\n",
    "tfidf = models.TfidfModel(bow_corpus)\n",
    "corpus_tfidf = tfidf[bow_corpus]\n",
    "from pprint import pprint\n",
    "for doc in corpus_tfidf:\n",
    "    pprint(doc)\n",
    "    break"
   ]
  },
  {
   "cell_type": "code",
   "execution_count": 5,
   "metadata": {},
   "outputs": [
    {
     "name": "stdout",
     "output_type": "stream",
     "text": [
      "Topic: 0 Word: 0.002*\"press\" + 0.002*\"would\" + 0.002*\"peace\" + 0.002*\"york\" + 0.001*\"time\" + 0.001*\"norwegian\" + 0.001*\"swedish\" + 0.001*\"group\" + 0.001*\"norway\" + 0.001*\"social\"\n",
      "Topic: 1 Word: 0.003*\"peace\" + 0.002*\"conflict\" + 0.002*\"norway\" + 0.002*\"norwegian\" + 0.002*\"aceh\" + 0.002*\"child\" + 0.001*\"government\" + 0.001*\"would\" + 0.001*\"people\" + 0.001*\"party\"\n"
     ]
    }
   ],
   "source": [
    "lda_model_tfidf = gensim.models.LdaMulticore(corpus_tfidf, num_topics=2, id2word=dictionary)\n",
    "for idx, topic in lda_model_tfidf.print_topics(-1):\n",
    "    print('Topic: {} Word: {}'.format(idx, topic))"
   ]
  },
  {
   "cell_type": "markdown",
   "metadata": {},
   "source": [
    "# Doc2Vec"
   ]
  },
  {
   "cell_type": "code",
   "execution_count": 6,
   "metadata": {},
   "outputs": [],
   "source": [
    "from gensim.models.doc2vec import Doc2Vec, TaggedDocument"
   ]
  },
  {
   "cell_type": "code",
   "execution_count": 7,
   "metadata": {},
   "outputs": [],
   "source": [
    "j=0\n",
    "LabeledSentence1 = gensim.models.doc2vec.TaggedDocument\n",
    "tagged_data=[]\n",
    "for i in sentences:\n",
    "    tagged_data.append(LabeledSentence1(i,[j]))\n",
    "    j=j+1\n",
    "    "
   ]
  },
  {
   "cell_type": "code",
   "execution_count": 8,
   "metadata": {},
   "outputs": [
    {
     "data": {
      "text/plain": [
       "15823"
      ]
     },
     "execution_count": 8,
     "metadata": {},
     "output_type": "execute_result"
    }
   ],
   "source": [
    "len(tagged_data)"
   ]
  },
  {
   "cell_type": "code",
   "execution_count": 9,
   "metadata": {},
   "outputs": [
    {
     "name": "stderr",
     "output_type": "stream",
     "text": [
      "/anaconda3/envs/tensorflow/lib/python3.5/site-packages/gensim/models/doc2vec.py:366: UserWarning: The parameter `size` is deprecated, will be removed in 4.0.0, use `vector_size` instead.\n",
      "  warnings.warn(\"The parameter `size` is deprecated, will be removed in 4.0.0, use `vector_size` instead.\")\n"
     ]
    }
   ],
   "source": [
    "d2v_model = Doc2Vec(tagged_data, size = 2000, window = 10, min_count = 500, workers=7, dm = 1, \n",
    "                alpha=0.025, min_alpha=0.001)"
   ]
  },
  {
   "cell_type": "code",
   "execution_count": 10,
   "metadata": {},
   "outputs": [],
   "source": [
    "d2v_model.train(tagged_data, total_examples=d2v_model.corpus_count, epochs=10, start_alpha=0.002, end_alpha=-0.016)"
   ]
  },
  {
   "cell_type": "code",
   "execution_count": 57,
   "metadata": {},
   "outputs": [
    {
     "name": "stdout",
     "output_type": "stream",
     "text": [
      "[(12147, 0.8655003309249878), (13725, 0.8647735118865967), (13864, 0.8645832538604736), (13909, 0.8645234704017639), (12697, 0.8643833994865417), (14640, 0.8640890121459961), (12742, 0.8640411496162415), (14565, 0.8639421463012695), (13295, 0.8635469675064087), (13412, 0.8635216355323792)]\n",
      "TaggedDocument(['good', 'candidate', 'generalization', 'hold', 'across', 'tions', 'different', 'degree', 'example', 'verba', 'found', 'socioeconomic', 'status', 'related', 'electoral', 'participation', 'seven', 'country', 'studied', 'relationship', 'united', 'state', 'japan', 'virtually', 'irrelevant', 'austria', 'extent', 'political', 'party', 'stltulioos', 'compensated', 'individual', 'difference', 'resource', 'researcher', 'concluded', 'austria', 'differs', 'austrian', 'party', 'developed', 'different', 'pattern', 'political', 'mobilization', 'american', 'party'], [13864]) TaggedDocument(['relative', 'simply', 'mean', 'group', 'thus', 'identified', 'within', 'major', 'social', 'system', 'form', 'integral', 'part', 'case', 'course', 'group', 'member', 'likely', 'articulate', 'collective', 'identity', 'term', 'negation', 'accepted', 'norm', 'major', 'system', 'develop', 'negative', 'symbol', 'relation', 'attitude', 'toward', 'basicly', 'affirmative', 'although', 'certain', 'exclusiveness', 'toward', 'adhere', 'specific', 'additional', 'norm', 'group', 'frequently', 'predominant', 'symbolic', 'norm', 'group', 'nothing', 'particular', 'emphasis', 'generally', 'accepted', 'norm', 'like', 'patriotic', 'organisation', 'distinguishing', 'particular', 'emphasis', 'generally', 'accepted', 'norm', 'patriotism', 'member', 'group', 'completely', 'integrated', 'major', 'system', 'even', 'form', 'elite', 'within', 'actually', 'elite', 'grou'], [13412])\n"
     ]
    },
    {
     "data": {
      "text/plain": [
       "TaggedDocument(words=['nordic', 'model', 'relevance', 'united', 'state', 'many', 'sized', 'nordic', 'different', 'united', 'state', 'like', 'small', 'size', 'homogeneity', 'culture', 'listener', 'wondered', 'whether', 'american', 'could', 'mobilize', 'enough', 'power', 'make', 'change', 'significant', 'nordic', 'achieved'], tags=[7000])"
      ]
     },
     "execution_count": 57,
     "metadata": {},
     "output_type": "execute_result"
    }
   ],
   "source": [
    "print (d2v_model.docvecs.most_similar(7000))\n",
    "print(tagged_data[13864],tagged_data[13412])\n",
    "tagged_data[7000]"
   ]
  },
  {
   "cell_type": "markdown",
   "metadata": {},
   "source": [
    "# K-Means Clustering on Tagged Documents"
   ]
  },
  {
   "cell_type": "code",
   "execution_count": 12,
   "metadata": {},
   "outputs": [
    {
     "name": "stderr",
     "output_type": "stream",
     "text": [
      "/anaconda3/envs/tensorflow/lib/python3.5/site-packages/ipykernel_launcher.py:6: DeprecationWarning: Call to deprecated `doctag_syn0` (Attribute will be removed in 4.0.0, use docvecs.vectors_docs instead).\n",
      "  \n",
      "/anaconda3/envs/tensorflow/lib/python3.5/site-packages/ipykernel_launcher.py:8: DeprecationWarning: Call to deprecated `doctag_syn0` (Attribute will be removed in 4.0.0, use docvecs.vectors_docs instead).\n",
      "  \n",
      "/anaconda3/envs/tensorflow/lib/python3.5/site-packages/ipykernel_launcher.py:9: DeprecationWarning: Call to deprecated `doctag_syn0` (Attribute will be removed in 4.0.0, use docvecs.vectors_docs instead).\n",
      "  if __name__ == '__main__':\n",
      "/anaconda3/envs/tensorflow/lib/python3.5/site-packages/ipykernel_launcher.py:10: DeprecationWarning: Call to deprecated `doctag_syn0` (Attribute will be removed in 4.0.0, use docvecs.vectors_docs instead).\n",
      "  # Remove the CWD from sys.path while we load stuff.\n"
     ]
    }
   ],
   "source": [
    "from sklearn.cluster import KMeans\n",
    "import matplotlib.pyplot as plt\n",
    "from sklearn.decomposition import PCA\n",
    "\n",
    "kmeans_model = KMeans(n_clusters=2, init='k-means++', max_iter=100)  \n",
    "X = kmeans_model.fit(d2v_model.docvecs.doctag_syn0)\n",
    "labels=kmeans_model.labels_.tolist()\n",
    "l = kmeans_model.fit_predict(d2v_model.docvecs.doctag_syn0)\n",
    "pca = PCA(n_components=2).fit(d2v_model.docvecs.doctag_syn0)\n",
    "datapoint = pca.transform(d2v_model.docvecs.doctag_syn0)"
   ]
  },
  {
   "cell_type": "code",
   "execution_count": 13,
   "metadata": {},
   "outputs": [
    {
     "data": {
      "image/png": "[encoded data removed]",
      "text/plain": [
       "<Figure size 432x288 with 1 Axes>"
      ]
     },
     "metadata": {},
     "output_type": "display_data"
    }
   ],
   "source": [
    "plt.figure\n",
    "label1 = [\"#FFFF00\", \"#008000\"]\n",
    "color = [label1[i] for i in labels]\n",
    "plt.scatter(datapoint[:, 0], datapoint[:, 1], c=color)\n",
    "\n",
    "centroids = kmeans_model.cluster_centers_\n",
    "centroidpoint = pca.transform(centroids)\n",
    "plt.scatter(centroidpoint[:, 0], centroidpoint[:, 1], marker='^', s=150, c='#000000')\n",
    "plt.show()"
   ]
  },
  {
   "cell_type": "markdown",
   "metadata": {},
   "source": [
    "# It is clear that cluster 0 talks about Peaceful Sentences/Documents"
   ]
  },
  {
   "cell_type": "code",
   "execution_count": 17,
   "metadata": {},
   "outputs": [
    {
     "name": "stdout",
     "output_type": "stream",
     "text": [
      "TaggedDocument(['resolving', 'conflict'], [0])\n",
      "0\n",
      "TaggedDocument(['case', 'small', 'industrialized', 'society'], [1])\n",
      "0\n",
      "TaggedDocument(['fvor'], [2])\n",
      "0\n",
      "TaggedDocument(['manifold', 'nclions', 'lorn', 'society', 'although', 'problem', 'conflict', 'resolution', 'merge', 'erate', 'legal', 'institu', 'tions', 'overlap', 'partial', 'modern', 'legal', 'tions', 'growth', 'legislation', 'ustrialized', 'society', 'suggests', 'used', 'instrument', 'furth', 'many', 'interest', 'ping', 'olution', 'infrequ', 'legis', 'lation', 'cial', 'confli', 'even', 'anticipated', 'legisb', 'accepted', 'necessary', 'effort', 'action', 'program', 'nevertheless', 'conflict', 'resolution', 'remained', 'important', 'concern', 'legal', 'tution', 'vvhntevor', 'legislation', 'instru', 'shaped', 'lopm', 'ping', 'ancl', 'resolut', 'always', 'foomed', 'large'], [3])\n",
      "0\n",
      "TaggedDocument(['purpose', 'paper', 'discus', 'trend', 'development', 'institutionalized', 'method', 'conflict', 'small', 'ized', 'orwa', 'basis', 'discussion', 'scheme', 'pretation', 'presented', 'consisting', 'ology', 'erson', 'conflict', 'corr', 'pology'], [4])\n",
      "0\n",
      "TaggedDocument(['conflict', 'type', 'conflict', 'resol', 'ution', 'contrasted'], [5])\n",
      "0\n",
      "TaggedDocument(['claimed', 'pure', 'form', 'type', 'correspond', 'actual', 'instance', 'conflic', 'resolution', 'normally', 'element', 'model', 'intermingled', 'element', 'polar', 'type', 'serve', 'merely', 'reference', 'point', 'analysis', 'social', 'function', 'empirically', 'observable', 'method', 'conflict', 'resolution'], [6])\n",
      "0\n",
      "TaggedDocument(['vilhelm', 'aubert'], [7])\n",
      "0\n",
      "TaggedDocument(['confiicts', 'interest', 'competition', 'negotiation'], [8])\n",
      "0\n",
      "TaggedDocument(['conflic', 'terest', 'deriv', 'situ', 'ation', 'scarcity', 'alter', 'thing', 'nough', 'satisfy', 'hasis', 'conflict', 'common', 'rper', 'sonal', 'relationship', 'buying', 'ther', 'confli', 'customer', 'would', 'commodjty', 'price', 'seller', 'like', 'obtain', 'better', 'rice'], [9])\n",
      "0\n",
      "TaggedDocument(['even', 'source', 'conflict', 'present', 'commercial', 'conflicting', 'interest', 'wholly', 'incompatible', 'true', 'extent', 'gain', 'party', 'must', 'become', 'loss', 'usually', 'exis', 'tbat', 'party', 'interest'], [10])\n",
      "0\n",
      "TaggedDocument(['pletion', 'relationship', 'alter', 'characterized', 'partly', 'incompatible', 'partly', 'overlapping', 'interest', 'relation', 'alter', 'interest', 'artl'], [11])\n",
      "0\n",
      "TaggedDocument(['patible', 'overhtppii', 'present', 'normaj'], [12])\n",
      "0\n",
      "TaggedDocument(['occclm', 'olve', 'since', 'party', 'something', 'gain', 'adversary', 'action', 'calculated', 'extract'], [13])\n",
      "0\n",
      "TaggedDocument(['concession', 'attempt', 'motivate', 'alter', 'creas', 'contribution', 'reduce', 'demand', 'promise', 'offer', 'alter', 'reciprocal', 'concession', 'alter', 'search', 'solution', 'mise', 'motiv', 'underlyingsuc', 'lion', 'tiiu', 'strat', 'osen', 'party', 'wish', 'loss', 'luce', 'raiffa', 'leading', 'chance', 'obtain'], [14])\n",
      "0\n",
      "TaggedDocument(['maximal', 'gain', 'order', 'achieve', 'curity', 'inviting', 'worst', 'joss'], [15])\n",
      "0\n",
      "TaggedDocument(['egotiations', 'concerning', 'sale', 'aloan', 'business', 'action', 'alter', 'behave', 'accordance', 'minimax', 'principle', 'since', 'often', 'least', 'desirable', 'alternative'], [16])\n",
      "0\n",
      "TaggedDocument(['take', 'place', 'doth', 'motiva', 'concession', 'relation'], [17])\n",
      "0\n",
      "TaggedDocument(['wijlin', 'concede', 'poinl', 'though', 'concession', 'bring', 'feel', 'xchan', 'lcoming', 'trary', 'iust', 'sefrainin', 'insistence', 'oral', 'right', 'smooth', 'conflict', 'solved', 'negotiation', 'party', 'nece', 'ssar', 'arrive', 'agreement', 'ctual'], [18])\n",
      "0\n",
      "TaggedDocument(['velo', 'confli', 'norm'], [19])\n",
      "0\n",
      "TaggedDocument(['cnblc', 'onse', 'movement', 'negotiator', 'strictly', 'speaking', 'party', 'need', 'reach'], [20])\n",
      "0\n",
      "TaggedDocument(['case', 'study', 'western', 'society'], [21])\n",
      "0\n",
      "TaggedDocument(['ment', 'anything', 'beyond', 'settlement', 'point', 'demand', 'side', 'would', 'rather', 'accept', 'solution', 'offered', 'face', 'broken', 'lationship', 'rreement', 'tfae', 'lvantage', 'negotial', 'solution', 'leave'], [22])\n",
      "0\n",
      "TaggedDocument(['mark', 'normative', 'order', 'society', 'since', 'solution', 'become', 'precedent', 'later', 'solution', 'similar', 'conflict', 'adversary', 'need', 'fear', 'general', 'consequence', 'settlement', 'however', 'another', 'point', 'view', 'weakness', 'settlement', 'kind', 'predictability', 'often', 'needed', 'would', 'result', 'solution', 'could', 'interpreted', 'application', 'norm', 'generalizable', 'similar', 'case'], [23])\n",
      "0\n",
      "TaggedDocument(['dealt', 'conflict', 'interest', 'partly', 'lapping', 'partly', 'contradictory', 'however', 'also', 'tions', 'incom', 'atibiji', 'interest', 'total', 'rega', 'vajues', 'gain', 'side', 'must', 'necessarily', 'appear', 'loss', 'side', 'gain', 'loss', 'evened', 'relationship', 'described', 'luce', 'raiffa', 'competition', 'generate', 'value', 'merely', 'serf', 'distribute', 'existing', 'value', 'basis', 'choice', 'benefit', 'side', 'reappears', 'cost', 'side', 'conjjicts', 'read', 'solved', 'mean', 'negot', 'iations', 'betwe', 'test'], [24])\n",
      "0\n",
      "TaggedDocument(['economic', 'transaction', 'relationship', 'transformed', 'game', 'game', 'disa', 'txous', 'even', 'intervene', 'relationship', 'exchange', 'transformation', 'modity', 'representi', 'contri', 'tion', 'clisapp', 'ents', 'signed', 'fore', 'alter', 'ived', 'commodity'], [25])\n",
      "0\n",
      "TaggedDocument(['seems', 'negotiation', 'adequate', 'mean', 'solving', 'conflict', 'interest', 'contradictory', 'extent', 'gain', 'loss', 'must', 'cancel', 'word', 'faced', 'game', 'situation', 'brin', 'case', 'court', 'mand', 'settlement', 'court', 'conflict', 'accor', 'rmce', 'priuciriles', 'different', 'erning', 'commercia', 'negotiation'], [26])\n",
      "0\n",
      "TaggedDocument(['conflict', 'interest', 'presuppose', 'disagreem', 'alter', 'value', 'factual', 'competition', 'rest', 'upon', 'ensus', 'valuat', 'scarce', 'good', 'jenlousy', 'spring', 'preci', 'unfortunate', 'consensus', 'would', 'rivalry', 'position', 'leadersh', 'arise', 'conte', 'tended', 'evalua', 'incumbency', 'position', 'rather', 'simi', 'term', 'rrcement', 'tends', 'draw', 'nncl', 'alter', 'tber', 'confli', 'thus', 'emphasizes', 'lheir', 'communajity', 'value', 'premise'], [27])\n",
      "0\n",
      "TaggedDocument(['vilhelm', 'aubert'], [28])\n",
      "0\n",
      "TaggedDocument(['confiicts', 'value', 'ancl', 'dissension'], [29])\n",
      "0\n"
     ]
    }
   ],
   "source": [
    "for i in range(30):\n",
    "    print(tagged_data[i])\n",
    "    print(labels[i])"
   ]
  },
  {
   "cell_type": "markdown",
   "metadata": {},
   "source": [
    "# Much more Peaceful than Non-Peaceful Documents found"
   ]
  },
  {
   "cell_type": "code",
   "execution_count": 15,
   "metadata": {},
   "outputs": [
    {
     "name": "stdout",
     "output_type": "stream",
     "text": [
      "14549 1274\n"
     ]
    }
   ],
   "source": [
    "zero=0\n",
    "for i in labels:\n",
    "    if i==0:\n",
    "        zero=zero+1\n",
    "ones=len(labels)-zero\n",
    "print(zero,ones)"
   ]
  },
  {
   "cell_type": "code",
   "execution_count": null,
   "metadata": {},
   "outputs": [],
   "source": []
  }
 ],
 "metadata": {
  "kernelspec": {
   "display_name": "Python 3",
   "language": "python",
   "name": "python3"
  },
  "language_info": {
   "codemirror_mode": {
    "name": "ipython",
    "version": 3
   },
   "file_extension": ".py",
   "mimetype": "text/x-python",
   "name": "python",
   "nbconvert_exporter": "python",
   "pygments_lexer": "ipython3",
   "version": "3.5.5"
  }
 },
 "nbformat": 4,
 "nbformat_minor": 2
}
